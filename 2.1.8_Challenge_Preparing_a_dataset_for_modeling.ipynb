{
 "cells": [
  {
   "cell_type": "markdown",
   "metadata": {},
   "source": [
    "# 2.1.8 Preparing a dataset for modeling\n",
    "\n",
    "## data information\n",
    "\n",
    "|variable name|information|\n",
    "|---|---|\n",
    "|age:| continuous. |\n",
    "|workclass:| Private, Self-emp-not-inc, Self-emp-inc, Federal-gov, Local-gov, State-gov, Without-pay, Never-worked.|\n",
    "|fnlwgt:| continuous.|\n",
    "|education:| Bachelors, Some-college, 11th, HS-grad, Prof-school, Assoc-acdm, Assoc-voc, 9th, 7th-8th, 12th, Masters, 1st-4th, 10th, Doctorate, 5th-6th, Preschool.|\n",
    "|education-num:| continuous.|\n",
    "|marital-status:| Married-civ-spouse, Divorced, Never-married, Separated, Widowed, Married-spouse-absent, Married-AF-spouse.|\n",
    "|occupation:| Tech-support, Craft-repair, Other-service, Sales, Exec-managerial, Prof-specialty, Handlers-cleaners, Machine-op-inspct, Adm-clerical, Farming-fishing, Transport-moving, Priv-house-serv, Protective-serv, Armed-Forces.|\n",
    "|relationship:| Wife, Own-child, Husband, Not-in-family, Other-relative, Unmarried.|\n",
    "|race:| White, Asian-Pac-Islander, Amer-Indian-Eskimo, Other, Black.|\n",
    "|sex:| Female, Male.|\n",
    "|capital-gain:| continuous.|\n",
    "|capital-loss:| continuous.|\n",
    "|hours-per-week:| continuous.|\n",
    "|native-country:| United-States, Cambodia, England, Puerto-Rico, Canada, Germany, Outlying-US(Guam-USVI-etc), India, Japan, Greece, South, China, Cuba, Iran, Honduras, Philippines, Italy, Poland, Jamaica, Vietnam, Mexico, Portugal, Ireland, France, Dominican-Republic, Laos, Ecuador, Taiwan, Haiti, Columbia, Hungary, Guatemala, Nicaragua, Scotland, Thailand, Yugoslavia, El-Salvador, Trinadad&Tobago, Peru, Hong, Holand-Netherlands.|\n",
    "<br>\n",
    "Extraction was done by Barry Becker from the 1994 Census database. A set of reasonably clean records was extracted using the following conditions: ((AAGE>16) && (AGI>100) && (AFNLWGT>1)&& (HRSWK>0)) <br>\n",
    "\n",
    "Prediction task is to determine whether a person makes over 50K a year. <br>\n",
    "\n",
    "\n",
    "\n",
    "\n",
    "** base variables **\n",
    "1. sex - categorical <br>\n",
    "2. race - categorical <br>\n",
    "3. age - numerical <br>\n",
    "4. education - numerical <br>\n",
    "5. hours_per week - nemerical <br>\n",
    "\n",
    "**outcome variable** <br>\n",
    "income \n",
    "\n",
    "## Univariate exploration "
   ]
  },
  {
   "cell_type": "code",
   "execution_count": 162,
   "metadata": {},
   "outputs": [
    {
     "data": {
      "text/html": [
       "<div>\n",
       "<style scoped>\n",
       "    .dataframe tbody tr th:only-of-type {\n",
       "        vertical-align: middle;\n",
       "    }\n",
       "\n",
       "    .dataframe tbody tr th {\n",
       "        vertical-align: top;\n",
       "    }\n",
       "\n",
       "    .dataframe thead th {\n",
       "        text-align: right;\n",
       "    }\n",
       "</style>\n",
       "<table border=\"1\" class=\"dataframe\">\n",
       "  <thead>\n",
       "    <tr style=\"text-align: right;\">\n",
       "      <th></th>\n",
       "      <th>age</th>\n",
       "      <th>workclass</th>\n",
       "      <th>fnlwgt</th>\n",
       "      <th>education</th>\n",
       "      <th>education_num</th>\n",
       "      <th>marital-status</th>\n",
       "      <th>occupation</th>\n",
       "      <th>relationship</th>\n",
       "      <th>race</th>\n",
       "      <th>sex</th>\n",
       "      <th>capital_gain</th>\n",
       "      <th>capital-loss</th>\n",
       "      <th>hours-per-week</th>\n",
       "      <th>native-country</th>\n",
       "      <th>income</th>\n",
       "    </tr>\n",
       "  </thead>\n",
       "  <tbody>\n",
       "    <tr>\n",
       "      <th>0</th>\n",
       "      <td>39</td>\n",
       "      <td>State-gov</td>\n",
       "      <td>77516</td>\n",
       "      <td>Bachelors</td>\n",
       "      <td>13</td>\n",
       "      <td>Never-married</td>\n",
       "      <td>Adm-clerical</td>\n",
       "      <td>Not-in-family</td>\n",
       "      <td>White</td>\n",
       "      <td>Male</td>\n",
       "      <td>2174</td>\n",
       "      <td>0</td>\n",
       "      <td>40</td>\n",
       "      <td>United-States</td>\n",
       "      <td>&lt;=50K</td>\n",
       "    </tr>\n",
       "    <tr>\n",
       "      <th>1</th>\n",
       "      <td>50</td>\n",
       "      <td>Self-emp-not-inc</td>\n",
       "      <td>83311</td>\n",
       "      <td>Bachelors</td>\n",
       "      <td>13</td>\n",
       "      <td>Married-civ-spouse</td>\n",
       "      <td>Exec-managerial</td>\n",
       "      <td>Husband</td>\n",
       "      <td>White</td>\n",
       "      <td>Male</td>\n",
       "      <td>0</td>\n",
       "      <td>0</td>\n",
       "      <td>13</td>\n",
       "      <td>United-States</td>\n",
       "      <td>&lt;=50K</td>\n",
       "    </tr>\n",
       "    <tr>\n",
       "      <th>2</th>\n",
       "      <td>38</td>\n",
       "      <td>Private</td>\n",
       "      <td>215646</td>\n",
       "      <td>HS-grad</td>\n",
       "      <td>9</td>\n",
       "      <td>Divorced</td>\n",
       "      <td>Handlers-cleaners</td>\n",
       "      <td>Not-in-family</td>\n",
       "      <td>White</td>\n",
       "      <td>Male</td>\n",
       "      <td>0</td>\n",
       "      <td>0</td>\n",
       "      <td>40</td>\n",
       "      <td>United-States</td>\n",
       "      <td>&lt;=50K</td>\n",
       "    </tr>\n",
       "    <tr>\n",
       "      <th>3</th>\n",
       "      <td>53</td>\n",
       "      <td>Private</td>\n",
       "      <td>234721</td>\n",
       "      <td>11th</td>\n",
       "      <td>7</td>\n",
       "      <td>Married-civ-spouse</td>\n",
       "      <td>Handlers-cleaners</td>\n",
       "      <td>Husband</td>\n",
       "      <td>Black</td>\n",
       "      <td>Male</td>\n",
       "      <td>0</td>\n",
       "      <td>0</td>\n",
       "      <td>40</td>\n",
       "      <td>United-States</td>\n",
       "      <td>&lt;=50K</td>\n",
       "    </tr>\n",
       "    <tr>\n",
       "      <th>4</th>\n",
       "      <td>28</td>\n",
       "      <td>Private</td>\n",
       "      <td>338409</td>\n",
       "      <td>Bachelors</td>\n",
       "      <td>13</td>\n",
       "      <td>Married-civ-spouse</td>\n",
       "      <td>Prof-specialty</td>\n",
       "      <td>Wife</td>\n",
       "      <td>Black</td>\n",
       "      <td>Female</td>\n",
       "      <td>0</td>\n",
       "      <td>0</td>\n",
       "      <td>40</td>\n",
       "      <td>Cuba</td>\n",
       "      <td>&lt;=50K</td>\n",
       "    </tr>\n",
       "  </tbody>\n",
       "</table>\n",
       "</div>"
      ],
      "text/plain": [
       "   age          workclass  fnlwgt   education  education_num  \\\n",
       "0   39          State-gov   77516   Bachelors             13   \n",
       "1   50   Self-emp-not-inc   83311   Bachelors             13   \n",
       "2   38            Private  215646     HS-grad              9   \n",
       "3   53            Private  234721        11th              7   \n",
       "4   28            Private  338409   Bachelors             13   \n",
       "\n",
       "        marital-status          occupation    relationship    race      sex  \\\n",
       "0        Never-married        Adm-clerical   Not-in-family   White     Male   \n",
       "1   Married-civ-spouse     Exec-managerial         Husband   White     Male   \n",
       "2             Divorced   Handlers-cleaners   Not-in-family   White     Male   \n",
       "3   Married-civ-spouse   Handlers-cleaners         Husband   Black     Male   \n",
       "4   Married-civ-spouse      Prof-specialty            Wife   Black   Female   \n",
       "\n",
       "   capital_gain  capital-loss  hours-per-week  native-country  income  \n",
       "0          2174             0              40   United-States   <=50K  \n",
       "1             0             0              13   United-States   <=50K  \n",
       "2             0             0              40   United-States   <=50K  \n",
       "3             0             0              40   United-States   <=50K  \n",
       "4             0             0              40            Cuba   <=50K  "
      ]
     },
     "execution_count": 162,
     "metadata": {},
     "output_type": "execute_result"
    }
   ],
   "source": [
    "%matplotlib inline\n",
    "import numpy as np\n",
    "import pandas as pd\n",
    "import matplotlib.pyplot as plt\n",
    "import seaborn as sns\n",
    "import scipy.stats as stats\n",
    "\n",
    "df=pd.read_csv('adult.csv', names=['age','workclass','fnlwgt','education','education_num',\n",
    "                                   'marital-status','occupation','relationship','race',\n",
    "                                   'sex','capital_gain','capital-loss','hours-per-week',\n",
    "                                   'native-country','income'])\n",
    "\n",
    "df.head()"
   ]
  },
  {
   "cell_type": "code",
   "execution_count": 163,
   "metadata": {},
   "outputs": [
    {
     "name": "stdout",
     "output_type": "stream",
     "text": [
      "data point is (32561, 15)\n"
     ]
    }
   ],
   "source": [
    "print('data point is', df.shape)"
   ]
  },
  {
   "cell_type": "code",
   "execution_count": 164,
   "metadata": {},
   "outputs": [
    {
     "data": {
      "text/html": [
       "<div>\n",
       "<style scoped>\n",
       "    .dataframe tbody tr th:only-of-type {\n",
       "        vertical-align: middle;\n",
       "    }\n",
       "\n",
       "    .dataframe tbody tr th {\n",
       "        vertical-align: top;\n",
       "    }\n",
       "\n",
       "    .dataframe thead th {\n",
       "        text-align: right;\n",
       "    }\n",
       "</style>\n",
       "<table border=\"1\" class=\"dataframe\">\n",
       "  <thead>\n",
       "    <tr style=\"text-align: right;\">\n",
       "      <th></th>\n",
       "      <th>income</th>\n",
       "      <th>sex</th>\n",
       "      <th>race</th>\n",
       "      <th>age</th>\n",
       "      <th>education_num</th>\n",
       "      <th>hours-per-week</th>\n",
       "    </tr>\n",
       "  </thead>\n",
       "  <tbody>\n",
       "    <tr>\n",
       "      <th>0</th>\n",
       "      <td>&lt;=50K</td>\n",
       "      <td>Male</td>\n",
       "      <td>White</td>\n",
       "      <td>39</td>\n",
       "      <td>13</td>\n",
       "      <td>40</td>\n",
       "    </tr>\n",
       "    <tr>\n",
       "      <th>1</th>\n",
       "      <td>&lt;=50K</td>\n",
       "      <td>Male</td>\n",
       "      <td>White</td>\n",
       "      <td>50</td>\n",
       "      <td>13</td>\n",
       "      <td>13</td>\n",
       "    </tr>\n",
       "    <tr>\n",
       "      <th>2</th>\n",
       "      <td>&lt;=50K</td>\n",
       "      <td>Male</td>\n",
       "      <td>White</td>\n",
       "      <td>38</td>\n",
       "      <td>9</td>\n",
       "      <td>40</td>\n",
       "    </tr>\n",
       "    <tr>\n",
       "      <th>3</th>\n",
       "      <td>&lt;=50K</td>\n",
       "      <td>Male</td>\n",
       "      <td>Black</td>\n",
       "      <td>53</td>\n",
       "      <td>7</td>\n",
       "      <td>40</td>\n",
       "    </tr>\n",
       "    <tr>\n",
       "      <th>4</th>\n",
       "      <td>&lt;=50K</td>\n",
       "      <td>Female</td>\n",
       "      <td>Black</td>\n",
       "      <td>28</td>\n",
       "      <td>13</td>\n",
       "      <td>40</td>\n",
       "    </tr>\n",
       "  </tbody>\n",
       "</table>\n",
       "</div>"
      ],
      "text/plain": [
       "   income      sex    race  age  education_num  hours-per-week\n",
       "0   <=50K     Male   White   39             13              40\n",
       "1   <=50K     Male   White   50             13              13\n",
       "2   <=50K     Male   White   38              9              40\n",
       "3   <=50K     Male   Black   53              7              40\n",
       "4   <=50K   Female   Black   28             13              40"
      ]
     },
     "execution_count": 164,
     "metadata": {},
     "output_type": "execute_result"
    }
   ],
   "source": [
    "#subset of data\n",
    "df_pick=df.loc[:,['income','sex','race','age','education_num','hours-per-week']]\n",
    "df_pick.head()"
   ]
  },
  {
   "cell_type": "code",
   "execution_count": 165,
   "metadata": {},
   "outputs": [
    {
     "data": {
      "text/html": [
       "<div>\n",
       "<style scoped>\n",
       "    .dataframe tbody tr th:only-of-type {\n",
       "        vertical-align: middle;\n",
       "    }\n",
       "\n",
       "    .dataframe tbody tr th {\n",
       "        vertical-align: top;\n",
       "    }\n",
       "\n",
       "    .dataframe thead th {\n",
       "        text-align: right;\n",
       "    }\n",
       "</style>\n",
       "<table border=\"1\" class=\"dataframe\">\n",
       "  <thead>\n",
       "    <tr style=\"text-align: right;\">\n",
       "      <th></th>\n",
       "      <th>age</th>\n",
       "      <th>education_num</th>\n",
       "      <th>hours-per-week</th>\n",
       "    </tr>\n",
       "  </thead>\n",
       "  <tbody>\n",
       "    <tr>\n",
       "      <th>count</th>\n",
       "      <td>32561.000000</td>\n",
       "      <td>32561.000000</td>\n",
       "      <td>32561.000000</td>\n",
       "    </tr>\n",
       "    <tr>\n",
       "      <th>mean</th>\n",
       "      <td>38.581647</td>\n",
       "      <td>10.080679</td>\n",
       "      <td>40.437456</td>\n",
       "    </tr>\n",
       "    <tr>\n",
       "      <th>std</th>\n",
       "      <td>13.640433</td>\n",
       "      <td>2.572720</td>\n",
       "      <td>12.347429</td>\n",
       "    </tr>\n",
       "    <tr>\n",
       "      <th>min</th>\n",
       "      <td>17.000000</td>\n",
       "      <td>1.000000</td>\n",
       "      <td>1.000000</td>\n",
       "    </tr>\n",
       "    <tr>\n",
       "      <th>25%</th>\n",
       "      <td>28.000000</td>\n",
       "      <td>9.000000</td>\n",
       "      <td>40.000000</td>\n",
       "    </tr>\n",
       "    <tr>\n",
       "      <th>50%</th>\n",
       "      <td>37.000000</td>\n",
       "      <td>10.000000</td>\n",
       "      <td>40.000000</td>\n",
       "    </tr>\n",
       "    <tr>\n",
       "      <th>75%</th>\n",
       "      <td>48.000000</td>\n",
       "      <td>12.000000</td>\n",
       "      <td>45.000000</td>\n",
       "    </tr>\n",
       "    <tr>\n",
       "      <th>max</th>\n",
       "      <td>90.000000</td>\n",
       "      <td>16.000000</td>\n",
       "      <td>99.000000</td>\n",
       "    </tr>\n",
       "  </tbody>\n",
       "</table>\n",
       "</div>"
      ],
      "text/plain": [
       "                age  education_num  hours-per-week\n",
       "count  32561.000000   32561.000000    32561.000000\n",
       "mean      38.581647      10.080679       40.437456\n",
       "std       13.640433       2.572720       12.347429\n",
       "min       17.000000       1.000000        1.000000\n",
       "25%       28.000000       9.000000       40.000000\n",
       "50%       37.000000      10.000000       40.000000\n",
       "75%       48.000000      12.000000       45.000000\n",
       "max       90.000000      16.000000       99.000000"
      ]
     },
     "execution_count": 165,
     "metadata": {},
     "output_type": "execute_result"
    }
   ],
   "source": [
    "df_pick.describe()"
   ]
  },
  {
   "cell_type": "code",
   "execution_count": 166,
   "metadata": {},
   "outputs": [
    {
     "name": "stdout",
     "output_type": "stream",
     "text": [
      "income            0\n",
      "sex               0\n",
      "race              0\n",
      "age               0\n",
      "education_num     0\n",
      "hours-per-week    0\n",
      "dtype: int64\n",
      "There is no missing value\n"
     ]
    }
   ],
   "source": [
    "# calculating missing values\n",
    "print(df_pick.isnull().sum())\n",
    "print('There is no missing value')"
   ]
  },
  {
   "cell_type": "markdown",
   "metadata": {},
   "source": [
    "## Bivariate exploration\n",
    "\n",
    "**Two continuous variables - age, education years, hours-per-week**"
   ]
  },
  {
   "cell_type": "code",
   "execution_count": 167,
   "metadata": {},
   "outputs": [
    {
     "data": {
      "image/png": "[encoded data removed]",
      "text/plain": [
       "<Figure size 540x540 with 12 Axes>"
      ]
     },
     "metadata": {},
     "output_type": "display_data"
    }
   ],
   "source": [
    "# Make a copy of the data to add jitter to and plot.\n",
    "df_jittered=df_pick[['age','education_num','hours-per-week']]\n",
    "# Making the random noise.\n",
    "jitter = pd.DataFrame(\n",
    "    np.random.uniform(-.3, .3, size=(df_jittered.shape)),\n",
    "    columns=df_jittered.columns\n",
    ")\n",
    "# Combine the data and the noise.\n",
    "df_jittered=df_jittered.add(jitter)\n",
    "\n",
    "# Declare that you want to make a scatterplot matrix.\n",
    "g = sns.PairGrid(df_jittered.dropna(), diag_sharey=False)\n",
    "# Scatterplot.\n",
    "g.map_upper(plt.scatter, alpha=.5)\n",
    "# Fit line summarizing the linear relationship of the two variables.\n",
    "g.map_lower(sns.regplot, scatter_kws=dict(alpha=0))\n",
    "# Give information about the univariate distributions of the variables.\n",
    "g.map_diag(sns.kdeplot, lw=3)\n",
    "plt.show()"
   ]
  },
  {
   "cell_type": "code",
   "execution_count": 168,
   "metadata": {},
   "outputs": [
    {
     "name": "stdout",
     "output_type": "stream",
     "text": [
      "                     age  education_num  hours-per-week\n",
      "age             1.000000       0.036527        0.068756\n",
      "education_num   0.036527       1.000000        0.148123\n",
      "hours-per-week  0.068756       0.148123        1.000000\n"
     ]
    },
    {
     "data": {
      "image/png": "[encoded data removed]",
      "text/plain": [
       "<Figure size 864x648 with 2 Axes>"
      ]
     },
     "metadata": {},
     "output_type": "display_data"
    }
   ],
   "source": [
    "# Make the correlation matrix\n",
    "corrmat = df_pick.corr()\n",
    "print(corrmat)\n",
    "\n",
    "# Set up the matplotlib figure.\n",
    "f, ax = plt.subplots(figsize=(12, 9))\n",
    "\n",
    "# Draw the heatmap using seaborn.\n",
    "sns.heatmap(corrmat, vmax=.8, square=True)\n",
    "plt.show()\n",
    "# Heatmaps are a great way to get a quick visual read on a big correlation matrix.\n",
    "\n",
    "# Try to match the correlation numbers to the scatterplots above to get a \n",
    "# sense of what each magnitude of correlation can look like.\n"
   ]
  },
  {
   "cell_type": "code",
   "execution_count": 169,
   "metadata": {},
   "outputs": [
    {
     "data": {
      "text/html": [
       "<div>\n",
       "<style scoped>\n",
       "    .dataframe tbody tr th:only-of-type {\n",
       "        vertical-align: middle;\n",
       "    }\n",
       "\n",
       "    .dataframe tbody tr th {\n",
       "        vertical-align: top;\n",
       "    }\n",
       "\n",
       "    .dataframe thead th {\n",
       "        text-align: right;\n",
       "    }\n",
       "</style>\n",
       "<table border=\"1\" class=\"dataframe\">\n",
       "  <thead>\n",
       "    <tr style=\"text-align: right;\">\n",
       "      <th></th>\n",
       "      <th>income</th>\n",
       "      <th>sex</th>\n",
       "      <th>race</th>\n",
       "      <th>age</th>\n",
       "      <th>education_num</th>\n",
       "      <th>hours-per-week</th>\n",
       "    </tr>\n",
       "  </thead>\n",
       "  <tbody>\n",
       "    <tr>\n",
       "      <th>0</th>\n",
       "      <td>&lt;=50K</td>\n",
       "      <td>Male</td>\n",
       "      <td>White</td>\n",
       "      <td>39</td>\n",
       "      <td>13</td>\n",
       "      <td>40</td>\n",
       "    </tr>\n",
       "    <tr>\n",
       "      <th>1</th>\n",
       "      <td>&lt;=50K</td>\n",
       "      <td>Male</td>\n",
       "      <td>White</td>\n",
       "      <td>50</td>\n",
       "      <td>13</td>\n",
       "      <td>13</td>\n",
       "    </tr>\n",
       "    <tr>\n",
       "      <th>2</th>\n",
       "      <td>&lt;=50K</td>\n",
       "      <td>Male</td>\n",
       "      <td>White</td>\n",
       "      <td>38</td>\n",
       "      <td>9</td>\n",
       "      <td>40</td>\n",
       "    </tr>\n",
       "    <tr>\n",
       "      <th>3</th>\n",
       "      <td>&lt;=50K</td>\n",
       "      <td>Male</td>\n",
       "      <td>Black</td>\n",
       "      <td>53</td>\n",
       "      <td>7</td>\n",
       "      <td>40</td>\n",
       "    </tr>\n",
       "    <tr>\n",
       "      <th>4</th>\n",
       "      <td>&lt;=50K</td>\n",
       "      <td>Female</td>\n",
       "      <td>Black</td>\n",
       "      <td>28</td>\n",
       "      <td>13</td>\n",
       "      <td>40</td>\n",
       "    </tr>\n",
       "  </tbody>\n",
       "</table>\n",
       "</div>"
      ],
      "text/plain": [
       "   income      sex    race  age  education_num  hours-per-week\n",
       "0   <=50K     Male   White   39             13              40\n",
       "1   <=50K     Male   White   50             13              13\n",
       "2   <=50K     Male   White   38              9              40\n",
       "3   <=50K     Male   Black   53              7              40\n",
       "4   <=50K   Female   Black   28             13              40"
      ]
     },
     "execution_count": 169,
     "metadata": {},
     "output_type": "execute_result"
    }
   ],
   "source": [
    "df_pick.head()"
   ]
  },
  {
   "cell_type": "markdown",
   "metadata": {},
   "source": [
    "### For a continuous and a categorical pair: 1. Sex"
   ]
  },
  {
   "cell_type": "code",
   "execution_count": 170,
   "metadata": {},
   "outputs": [
    {
     "name": "stderr",
     "output_type": "stream",
     "text": [
      "/Users/yunjin/anaconda3/lib/python3.6/site-packages/seaborn/axisgrid.py:230: UserWarning: The `size` paramter has been renamed to `height`; please update your code.\n",
      "  warnings.warn(msg, UserWarning)\n",
      "/Users/yunjin/anaconda3/lib/python3.6/site-packages/seaborn/axisgrid.py:715: UserWarning: Using the boxplot function without specifying `order` is likely to produce an incorrect plot.\n",
      "  warnings.warn(warning)\n"
     ]
    },
    {
     "data": {
      "image/png": "[encoded data removed]",
      "text/plain": [
       "<Figure size 432x288 with 3 Axes>"
      ]
     },
     "metadata": {},
     "output_type": "display_data"
    },
    {
     "name": "stdout",
     "output_type": "stream",
     "text": [
      "           value                                                   \n",
      "           count       mean        std  min   25%   50%   75%   max\n",
      "sex                                                                \n",
      " Female  32313.0  27.768112  16.465152  1.0  11.0  27.0  40.0  99.0\n",
      " Male    65370.0  30.654842  17.988969  1.0  12.0  34.0  42.0  99.0\n",
      "age\n",
      "Ttest_indResult(statistic=16.092517011911756, pvalue=4.8239930687799265e-58)\n",
      "education_num\n",
      "Ttest_indResult(statistic=2.215993925964509, pvalue=0.026698806191320954)\n",
      "hours-per-week\n",
      "Ttest_indResult(statistic=42.50952506734038, pvalue=0.0)\n"
     ]
    }
   ],
   "source": [
    "# Plot all the variables with boxplots for male and female.\n",
    "\n",
    "# Restructure the data so we can use FacetGrid rather than making a boxplot\n",
    "# for each variable separately.\n",
    "df_long = df_pick[['sex','age','education_num','hours-per-week']]\n",
    "df_long = pd.melt(df_long, id_vars=['sex'])\n",
    "\n",
    "g = sns.FacetGrid(df_long, col=\"variable\", size=4, aspect=.5)\n",
    "g = g.map(sns.boxplot, \"sex\", \"value\")\n",
    "plt.show()\n",
    "\n",
    "# Descriptive statistics by group.\n",
    "print(df_long.groupby('sex').describe())\n",
    "\n",
    "# Remove space in values\n",
    "df_pick['sex']=df_pick['sex'].str.strip()\n",
    "\n",
    "# Test whether group differences are significant.\n",
    "for col in df_pick.loc[:,'age':'hours-per-week'].columns:\n",
    "    print(col)\n",
    "    print(stats.ttest_ind(\n",
    "        df_pick[df_pick['sex'] == 'Male'][col].dropna(),\n",
    "        df_pick[df_pick['sex'] == 'Female'][col].dropna()\n",
    "    ))"
   ]
  },
  {
   "cell_type": "markdown",
   "metadata": {},
   "source": [
    "### 2. Race"
   ]
  },
  {
   "cell_type": "code",
   "execution_count": 171,
   "metadata": {},
   "outputs": [
    {
     "name": "stderr",
     "output_type": "stream",
     "text": [
      "/Users/yunjin/anaconda3/lib/python3.6/site-packages/seaborn/axisgrid.py:230: UserWarning: The `size` paramter has been renamed to `height`; please update your code.\n",
      "  warnings.warn(msg, UserWarning)\n",
      "/Users/yunjin/anaconda3/lib/python3.6/site-packages/seaborn/axisgrid.py:715: UserWarning: Using the boxplot function without specifying `order` is likely to produce an incorrect plot.\n",
      "  warnings.warn(warning)\n"
     ]
    },
    {
     "data": {
      "image/png": "[encoded data removed]",
      "text/plain": [
       "<Figure size 1296x864 with 3 Axes>"
      ]
     },
     "metadata": {},
     "output_type": "display_data"
    },
    {
     "name": "stdout",
     "output_type": "stream",
     "text": [
      "                       value                                               \\\n",
      "                       count       mean        std  min   25%   50%   75%   \n",
      "race                                                                        \n",
      " Amer-Indian-Eskimo    933.0  28.844587  17.063139  2.0  10.0  31.0  40.0   \n",
      " Asian-Pac-Islander   3117.0  29.611485  16.878374  1.0  13.0  31.0  40.0   \n",
      " Black                9372.0  28.559006  16.536448  1.0  10.0  30.0  40.0   \n",
      " Other                 813.0  27.255843  16.273024  1.0  10.0  28.0  40.0   \n",
      " White               83448.0  29.864742  17.697929  1.0  12.0  31.0  40.0   \n",
      "\n",
      "                           \n",
      "                      max  \n",
      "race                       \n",
      " Amer-Indian-Eskimo  84.0  \n",
      " Asian-Pac-Islander  99.0  \n",
      " Black               99.0  \n",
      " Other               98.0  \n",
      " White               99.0  \n",
      "age\n",
      "F_onewayResult(statistic=15.49303112476382, pvalue=1.1478278646296998e-12)\n",
      "education_num\n",
      "F_onewayResult(statistic=99.04787313118362, pvalue=6.042564768404145e-84)\n",
      "hours-per-week\n",
      "F_onewayResult(statistic=24.40791824971067, pvalue=3.367984877972419e-20)\n"
     ]
    }
   ],
   "source": [
    "# Plot all the variables with boxplots for male and female.\n",
    "\n",
    "# Restructure the data so we can use FacetGrid rather than making a boxplot\n",
    "# for each variable separately.\n",
    "df_long = df_pick[['race','age','education_num','hours-per-week']]\n",
    "df_long = pd.melt(df_long, id_vars=['race'])\n",
    "\n",
    "g = sns.FacetGrid(df_long, col=\"variable\", size=12, aspect=.5)\n",
    "g = g.map(sns.boxplot, \"race\", \"value\")\n",
    "plt.show()\n",
    "\n",
    "# Descriptive statistics by group.\n",
    "print(df_long.groupby('race').describe())\n",
    "\n",
    "# Remove space in values\n",
    "df_pick['race']=df_pick['race'].str.strip()\n",
    "\n",
    "# Test whether group differences are significant.\n",
    "for col in df_pick.loc[:,'age':'hours-per-week'].columns:\n",
    "    print(col)\n",
    "    print(stats.f_oneway(\n",
    "        df_pick[df_pick['race'] == 'White'][col].dropna(),\n",
    "        df_pick[df_pick['race'] == 'Black'][col].dropna(),\n",
    "        df_pick[df_pick['race'] == 'Asian-Pac-Islander'][col].dropna(),\n",
    "        df_pick[df_pick['race'] == 'Amer-Indian-Eskimo'][col].dropna(),\n",
    "        df_pick[df_pick['race'] == 'Other'][col].dropna()       \n",
    "    )) "
   ]
  },
  {
   "cell_type": "code",
   "execution_count": 172,
   "metadata": {},
   "outputs": [
    {
     "data": {
      "text/plain": [
       "array(['White', 'Black', 'Asian-Pac-Islander', 'Amer-Indian-Eskimo',\n",
       "       'Other'], dtype=object)"
      ]
     },
     "execution_count": 172,
     "metadata": {},
     "output_type": "execute_result"
    }
   ],
   "source": [
    "# df_pick[df_pick['race'] == 'others']['age']\n",
    "df_pick['race'].unique()"
   ]
  },
  {
   "cell_type": "markdown",
   "metadata": {},
   "source": [
    "### For two categorical variables: sex and race"
   ]
  },
  {
   "cell_type": "code",
   "execution_count": 173,
   "metadata": {},
   "outputs": [
    {
     "data": {
      "image/png": "[encoded data removed]",
      "text/plain": [
       "<Figure size 432x288 with 1 Axes>"
      ]
     },
     "metadata": {},
     "output_type": "display_data"
    },
    {
     "name": "stdout",
     "output_type": "stream",
     "text": [
      "sex                   Female   Male\n",
      "race                               \n",
      " Amer-Indian-Eskimo      119    192\n",
      " Asian-Pac-Islander      346    693\n",
      " Black                  1555   1569\n",
      " Other                   109    162\n",
      " White                  8642  19174\n",
      "Power_divergenceResult(statistic=104994.76947882435, pvalue=0.0)\n"
     ]
    }
   ],
   "source": [
    "# Add a second categorical variable.\n",
    "df_2cat = df[['sex','race']]\n",
    "\n",
    "# Plot counts for each combination of levels.\n",
    "sns.countplot(y=\"race\", hue=\"sex\", data=df_2cat, palette=\"Greens_d\")\n",
    "plt.show()\n",
    "\n",
    "# Table of counts\n",
    "counttable = pd.crosstab(df_2cat['race'], df_2cat['sex'])\n",
    "print(counttable)\n",
    "\n",
    "# Test will return a chi-square test statistic and a p-value. Like the t-test,\n",
    "# the chi-square is compared against a distribution (the chi-square\n",
    "# distribution) to determine whether the group size differences are large\n",
    "# enough to reflect differences in the population.\n",
    "print(stats.chisquare(counttable, axis=None))"
   ]
  },
  {
   "cell_type": "markdown",
   "metadata": {},
   "source": [
    "## Feature Engineering\n",
    "### Feature 1 : age"
   ]
  },
  {
   "cell_type": "code",
   "execution_count": 174,
   "metadata": {},
   "outputs": [
    {
     "data": {
      "image/png": "[encoded data removed]",
      "text/plain": [
       "<Figure size 720x360 with 4 Axes>"
      ]
     },
     "metadata": {},
     "output_type": "display_data"
    }
   ],
   "source": [
    "# Making a four-panel plot.\n",
    "fig = plt.figure(figsize=[10,5])\n",
    "\n",
    "fig.add_subplot(221)\n",
    "plt.hist(df['age'].dropna())\n",
    "plt.title('Raw')\n",
    "\n",
    "fig.add_subplot(222)\n",
    "plt.hist(np.log(df['age'].dropna()))\n",
    "plt.title('Log')\n",
    "\n",
    "fig.add_subplot(223)\n",
    "plt.hist(np.sqrt(df['age'].dropna()))\n",
    "plt.title('Square root')\n",
    "\n",
    "ax3=fig.add_subplot(224)\n",
    "plt.hist(1/df['age'].dropna())\n",
    "plt.title('Inverse')\n",
    "plt.show()\n",
    "\n",
    "# None of these transformations look particularly great, actually. But let's\n",
    "# make a feature from the log one.\n",
    "features = pd.DataFrame()\n",
    "features['log_age'] = np.log(df['age'])"
   ]
  },
  {
   "cell_type": "markdown",
   "metadata": {},
   "source": [
    "### Feature 2: education"
   ]
  },
  {
   "cell_type": "code",
   "execution_count": 175,
   "metadata": {},
   "outputs": [
    {
     "data": {
      "text/plain": [
       "<Figure size 1440x216 with 0 Axes>"
      ]
     },
     "metadata": {},
     "output_type": "display_data"
    },
    {
     "data": {
      "image/png": "[encoded data removed]",
      "text/plain": [
       "<Figure size 648x432 with 1 Axes>"
      ]
     },
     "metadata": {},
     "output_type": "display_data"
    }
   ],
   "source": [
    "# Remove space in values\n",
    "df['education']=df['education'].str.strip()\n",
    "\n",
    "fig = plt.figure(figsize=[20,3])\n",
    "edu_pct=df['education'].value_counts()/len(df['education'])*100\n",
    "edu_pct=pd.DataFrame({'education':edu_pct.index,'pct':edu_pct})\n",
    "edu_pct=edu_pct.reindex(index=['Doctorate','Masters','Bachelors','Some-college','Assoc-voc','Assoc-acdm','Prof-school','HS-grad','12th','11th','10th','9th','7th-8th','5th-6th','1th-4th','Preschool'])\n",
    "edu_pct\n",
    "sns.set(style='ticks')\n",
    "g=sns.catplot(x='education',y='pct',kind=\"bar\",height=6, aspect=1.5, data=edu_pct)\n",
    "g.set_ylabels('percentage')\n",
    "g.set_xticklabels(rotation=30)\n",
    "\n",
    "# I re-categorized education variable into 1.above Bachelors 2. prof-school ~ some college 3. high school grad 4. preschool ~ 12th  \n",
    "mapper={'Doctorate':1,'Masters':1,'Bachelors':1,'Some-college':2,'Assoc-voc':2,'Assoc-acdm':2,'Prof-school':2,'HS-grad':3,'12th':4,'11th':4,'10th':4,'9th':4,'7th-8th':4,'5th-6th':4,'1th-4th':4,'Preschool':4}\n",
    "features['education_recat']=df['education'].replace(mapper)"
   ]
  },
  {
   "cell_type": "markdown",
   "metadata": {},
   "source": [
    "###  Feature 3: Hours per week"
   ]
  },
  {
   "cell_type": "code",
   "execution_count": 176,
   "metadata": {},
   "outputs": [
    {
     "data": {
      "image/png": "[encoded data removed]",
      "text/plain": [
       "<Figure size 720x360 with 4 Axes>"
      ]
     },
     "metadata": {},
     "output_type": "display_data"
    }
   ],
   "source": [
    "# Making a four-panel plot.\n",
    "fig = plt.figure(figsize=[10,5])\n",
    "\n",
    "fig.add_subplot(221)\n",
    "plt.hist(df['hours-per-week'].dropna())\n",
    "plt.title('Raw')\n",
    "\n",
    "fig.add_subplot(222)\n",
    "plt.hist(np.log(df['hours-per-week'].dropna()))\n",
    "plt.title('Log')\n",
    "\n",
    "fig.add_subplot(223)\n",
    "plt.hist(np.sqrt(df['hours-per-week'].dropna()))\n",
    "plt.title('Square root')\n",
    "\n",
    "ax3=fig.add_subplot(224)\n",
    "plt.hist(1/df['hours-per-week'].dropna())\n",
    "plt.title('Inverse')\n",
    "plt.show()\n",
    "\n",
    "#Although hours per week variable doesn't follow normal distribution, I decided to include in this as it is because \n",
    "#it reflects category-like traits. (Most people are gathered around 40 hrs per week.)\n",
    "\n",
    "features['hoursperweek']=df['hours-per-week']"
   ]
  },
  {
   "cell_type": "markdown",
   "metadata": {},
   "source": [
    "### Feature 4 : race"
   ]
  },
  {
   "cell_type": "code",
   "execution_count": 177,
   "metadata": {},
   "outputs": [
    {
     "name": "stdout",
     "output_type": "stream",
     "text": [
      " White                 85.427352\n",
      " Black                  9.594300\n",
      " Asian-Pac-Islander     3.190934\n",
      " Amer-Indian-Eskimo     0.955130\n",
      " Other                  0.832284\n",
      "Name: race, dtype: float64\n",
      " White                 27816\n",
      " Black                  3124\n",
      " Asian-Pac-Islander     1039\n",
      " Amer-Indian-Eskimo      311\n",
      " Other                   271\n",
      "Name: race, dtype: int64\n"
     ]
    }
   ],
   "source": [
    "print(df['race'].value_counts()/len(df['race'])*100)\n",
    "print(df['race'].value_counts())\n",
    "features['race']=df['race']"
   ]
  },
  {
   "cell_type": "markdown",
   "metadata": {},
   "source": [
    "### Feature 5 : work class"
   ]
  },
  {
   "cell_type": "code",
   "execution_count": 178,
   "metadata": {},
   "outputs": [
    {
     "data": {
      "text/plain": [
       "<Figure size 1440x216 with 0 Axes>"
      ]
     },
     "metadata": {},
     "output_type": "display_data"
    },
    {
     "data": {
      "image/png": "[encoded data removed]",
      "text/plain": [
       "<Figure size 648x432 with 1 Axes>"
      ]
     },
     "metadata": {},
     "output_type": "display_data"
    }
   ],
   "source": [
    "df['workclass']=df['workclass'].str.strip()\n",
    "\n",
    "fig = plt.figure(figsize=[20,3])\n",
    "work_pct=df['workclass'].value_counts()/len(df['workclass'])*100\n",
    "work_pct=pd.DataFrame({'workclass':work_pct.index,'pct':work_pct})\n",
    "\n",
    "sns.set(style='ticks')\n",
    "g=sns.catplot(x='workclass',y='pct',kind=\"bar\",height=6, aspect=1.5, data=work_pct)\n",
    "g.set_ylabels('percentage')\n",
    "g.set_xticklabels(rotation=30)\n",
    "\n",
    "# workclass is categorized into 4 classes - Gorvernment; Self employed; Private; others\n",
    "mapping={'State-gov':'gov','Self-emp-not-inc':'self-emp', 'Private':'private', 'Federal-gov':'gov',\n",
    "       'Local-gov':'gov', '?':'others', 'Self-emp-inc':'self-emp', 'Without-pay':'others', 'Never-worked':'others'}\n",
    "features['workclass_private']=df['workclass'].map(mapping)\n"
   ]
  },
  {
   "cell_type": "markdown",
   "metadata": {},
   "source": [
    "### Feature 6 : Sex\n",
    "\n",
    "Got dummies from sex variable"
   ]
  },
  {
   "cell_type": "code",
   "execution_count": 179,
   "metadata": {},
   "outputs": [],
   "source": [
    "# features = pd.get_dummies(df['sex'])"
   ]
  },
  {
   "cell_type": "markdown",
   "metadata": {},
   "source": [
    "### Feature 7 : sex * age interaction"
   ]
  },
  {
   "cell_type": "code",
   "execution_count": 180,
   "metadata": {},
   "outputs": [],
   "source": [
    "#import sex and income value and categorizing\n",
    "\n",
    "features['sex']=np.where(df['sex']==' Male',1,2)\n",
    "features['income']=np.where(df['income']==' >50K',1,0)"
   ]
  },
  {
   "cell_type": "code",
   "execution_count": 181,
   "metadata": {},
   "outputs": [],
   "source": [
    "#binning age variable\n",
    "# bins = [16, 30, 40, 50, 65, np.inf]\n",
    "# names = [1,2,3,4,5]\n",
    "\n",
    "# features['age_cat'] = pd.cut(df['age'], bins, labels=names)\n"
   ]
  },
  {
   "cell_type": "code",
   "execution_count": 182,
   "metadata": {},
   "outputs": [],
   "source": [
    "from patsy import dmatrices\n",
    "\n",
    "# create dummy variables, and their interactions\n",
    "y, X1 = dmatrices('C(income) ~ log_age*C(sex)', features, return_type=\"dataframe\")\n"
   ]
  },
  {
   "cell_type": "code",
   "execution_count": 183,
   "metadata": {
    "scrolled": true
   },
   "outputs": [
    {
     "data": {
      "text/plain": [
       "LogisticRegression(C=1.0, class_weight=None, dual=False, fit_intercept=True,\n",
       "          intercept_scaling=1, max_iter=100, multi_class='ovr', n_jobs=1,\n",
       "          penalty='l2', random_state=None, solver='liblinear', tol=0.0001,\n",
       "          verbose=0, warm_start=False)"
      ]
     },
     "execution_count": 183,
     "metadata": {},
     "output_type": "execute_result"
    }
   ],
   "source": [
    "from sklearn.linear_model import LogisticRegression\n",
    "from sklearn.feature_selection import chi2\n",
    "\n",
    "#Run logistic regression because we have categorical dependent variable(income)\n",
    "y=features['income']\n",
    "model=LogisticRegression()\n",
    "model.fit(X1,y)"
   ]
  },
  {
   "cell_type": "code",
   "execution_count": 184,
   "metadata": {},
   "outputs": [
    {
     "name": "stdout",
     "output_type": "stream",
     "text": [
      "Index(['Intercept', 'C(sex)[T.2]', 'log_age', 'log_age:C(sex)[T.2]'], dtype='object')\n",
      "[1.0, 0.0, 0.0, 0.0]\n"
     ]
    }
   ],
   "source": [
    "# check out p-values for each betas\n",
    "scores, p = chi2(X1, y)\n",
    "print(X1.columns)\n",
    "print([round(float(i), 2) for i in p])"
   ]
  },
  {
   "cell_type": "markdown",
   "metadata": {},
   "source": [
    "The p-values show that the interaction between age and sex is significant, so we include interaction term as features"
   ]
  },
  {
   "cell_type": "code",
   "execution_count": 185,
   "metadata": {},
   "outputs": [],
   "source": [
    "features['inter_agesex']=X1['log_age:C(sex)[T.2]']"
   ]
  },
  {
   "cell_type": "markdown",
   "metadata": {},
   "source": [
    "### Feature 8 : native-country\n",
    "United-States, England, Canada, Germany, Japan, Greece, Italy, Portugal,Ireland, France, Holand-Netherlands\n",
    "\n",
    "Cambodia,  Puerto-Rico,   Outlying-US(Guam-USVI-etc), India,  South, China, Cuba, Iran, Honduras, Philippines,  Poland, Jamaica, Vietnam, Mexico,   Dominican-Republic, Laos, Ecuador, Taiwan, Haiti, Columbia, Hungary, Guatemala, Nicaragua, Scotland, Thailand, Yugoslavia, El-Salvador, Trinadad&Tobago, Peru, Hong.\n",
    "\n",
    "Asia_East <- c(\" Cambodia\", \" China\", \" Hong\", \" Laos\", \" Thailand\",\n",
    "               \" Japan\", \" Taiwan\", \" Vietnam\")\n",
    "\n",
    "Asia_Central <- c(\" India\", \" Iran\")\n",
    "\n",
    "Central_America <- c(\" Cuba\", \" Guatemala\", \" Jamaica\", \" Nicaragua\", \n",
    "                     \" Puerto-Rico\",  \" Dominican-Republic\", \" El-Salvador\", \n",
    "                     \" Haiti\", \" Honduras\", \" Mexico\", \" Trinadad&Tobago\")\n",
    "\n",
    "South_America <- c(\" Ecuador\", \" Peru\", \" Columbia\")\n",
    "\n",
    "\n",
    "Europe_West <- c(\" England\", \" Germany\", \" Holand-Netherlands\", \" Ireland\", \n",
    "                 \" France\", \" Greece\", \" Italy\", \" Portugal\", \" Scotland\")\n",
    "\n",
    "Europe_East <- c(\" Poland\", \" Yugoslavia\", \" Hungary\")"
   ]
  },
  {
   "cell_type": "code",
   "execution_count": 186,
   "metadata": {},
   "outputs": [],
   "source": [
    "# mapping={\" Cambodia\":'Asia_East', \" China\":'Asia_East', \" Hong\":'Asia_East', \n",
    "#          \" Laos\":'Asia_East', \" Thailand\":'Asia_East',\" Japan\":'Asia_East', \n",
    "#          \" Taiwan\":'Asia_East', \" Vietnam\":'Asia_East'\n",
    "#         ,\" India\":'Asia_Central', \" Iran\":'Asia_Central'\n",
    "#         ,\" Cuba\":'Central_America', \" Guatemala\":'Central_America', \" Jamaica\":'Central_America',\n",
    "#          \" Nicaragua\":'Central_America', \" Puerto-Rico\":'Central_America',  \" Dominican-Republic\":'Central_America',\n",
    "#          \" El-Salvador\":'Central_America', \" Haiti\":'Central_America', \" Honduras\":'Central_America',\n",
    "#          \" Mexico\":'Central_America', \" Trinadad&Tobago\":'Central_America'\n",
    "#         ,\" Ecuador\":'South_America', \" Peru\":'South_America', \" Columbia\":'South_America'\n",
    "#         ,\" England\":'Europe_West', \" Germany\":'Europe_West', \" Holand-Netherlands\":'Europe_West',\n",
    "#          \" Ireland\":'Europe_West', \" France\":'Europe_West', \" Greece\":'Europe_West', \" Italy\":'Europe_West', \n",
    "#          \" Portugal\":'Europe_West', \" Scotland\":'Europe_West'\n",
    "#         ,\" Poland\":'Europe_East', \" Yugoslavia\":'Europe_East', \" Hungary\":'Europe_East'\n",
    "#         ,' United-States':'United-States'}\n",
    "df['native-country']=df['native-country'].str.strip()\n",
    "mapping={'United-States':'developed', 'England':'developed', 'Canada':'developed', 'Germany':'developed', \n",
    "         'Japan':'developed', 'Greece':'developed', 'Italy':'developed', 'Portugal':'developed',\n",
    "         'Ireland':'developed', 'France':'developed', 'Holand-Netherlands':'developed'\n",
    "        ,'Cambodia':'developing', 'Puerto-Rico':'developing', 'Outlying-US(Guam-USVI-etc)':'developing', \n",
    "         'India':'developing', 'China':'developing', 'Cuba':'developing', 'Iran':'developing', \n",
    "         'Honduras':'developing', 'Philippines':'developing', 'Poland':'developing', \n",
    "         'Jamaica':'developing', 'Vietnam':'developing', 'Mexico':'developing', \n",
    "         'Dominican-Republic':'developing', 'Laos':'developing', 'Ecuador':'developing', \n",
    "         'Taiwan':'developing', 'Haiti':'developing', 'Columbia':'developing', \n",
    "         'Hungary':'developing', 'Guatemala':'developing', 'Nicaragua':'developing', \n",
    "         'Scotland':'developing', 'Thailand':'developing', 'Yugoslavia':'developing', \n",
    "         'El-Salvador':'developing', 'Trinadad&Tobago':'developing', 'Peru':'developing', \n",
    "         'Hong':'developing'\n",
    "        , 'South':'unknown','?':'unknown'}\n",
    "features['country']=df['native-country'].map(mapping)"
   ]
  },
  {
   "cell_type": "markdown",
   "metadata": {},
   "source": [
    "### Feature 9: relationship\n",
    "Nominal attribute denoting the relationship status of a person with values - Wife, Own-child, Husband, Not-in-family, Other-relative, Unmarried."
   ]
  },
  {
   "cell_type": "code",
   "execution_count": 187,
   "metadata": {},
   "outputs": [],
   "source": [
    "df['relationship'].value_counts()\n",
    "\n",
    "features['relationship']=df['relationship']"
   ]
  },
  {
   "cell_type": "markdown",
   "metadata": {},
   "source": [
    "### Feature 10: hours-per-week * native-country interaction"
   ]
  },
  {
   "cell_type": "code",
   "execution_count": 188,
   "metadata": {},
   "outputs": [
    {
     "data": {
      "text/html": [
       "<div>\n",
       "<style scoped>\n",
       "    .dataframe tbody tr th:only-of-type {\n",
       "        vertical-align: middle;\n",
       "    }\n",
       "\n",
       "    .dataframe tbody tr th {\n",
       "        vertical-align: top;\n",
       "    }\n",
       "\n",
       "    .dataframe thead th {\n",
       "        text-align: right;\n",
       "    }\n",
       "</style>\n",
       "<table border=\"1\" class=\"dataframe\">\n",
       "  <thead>\n",
       "    <tr style=\"text-align: right;\">\n",
       "      <th></th>\n",
       "      <th>log_age</th>\n",
       "      <th>education_recat</th>\n",
       "      <th>hoursperweek</th>\n",
       "      <th>race</th>\n",
       "      <th>workclass_private</th>\n",
       "      <th>sex</th>\n",
       "      <th>income</th>\n",
       "      <th>inter_agesex</th>\n",
       "      <th>country</th>\n",
       "      <th>relationship</th>\n",
       "    </tr>\n",
       "  </thead>\n",
       "  <tbody>\n",
       "    <tr>\n",
       "      <th>0</th>\n",
       "      <td>3.663562</td>\n",
       "      <td>1</td>\n",
       "      <td>40</td>\n",
       "      <td>White</td>\n",
       "      <td>gov</td>\n",
       "      <td>1</td>\n",
       "      <td>0</td>\n",
       "      <td>0.000000</td>\n",
       "      <td>developed</td>\n",
       "      <td>Not-in-family</td>\n",
       "    </tr>\n",
       "    <tr>\n",
       "      <th>1</th>\n",
       "      <td>3.912023</td>\n",
       "      <td>1</td>\n",
       "      <td>13</td>\n",
       "      <td>White</td>\n",
       "      <td>self-emp</td>\n",
       "      <td>1</td>\n",
       "      <td>0</td>\n",
       "      <td>0.000000</td>\n",
       "      <td>developed</td>\n",
       "      <td>Husband</td>\n",
       "    </tr>\n",
       "    <tr>\n",
       "      <th>2</th>\n",
       "      <td>3.637586</td>\n",
       "      <td>3</td>\n",
       "      <td>40</td>\n",
       "      <td>White</td>\n",
       "      <td>private</td>\n",
       "      <td>1</td>\n",
       "      <td>0</td>\n",
       "      <td>0.000000</td>\n",
       "      <td>developed</td>\n",
       "      <td>Not-in-family</td>\n",
       "    </tr>\n",
       "    <tr>\n",
       "      <th>3</th>\n",
       "      <td>3.970292</td>\n",
       "      <td>4</td>\n",
       "      <td>40</td>\n",
       "      <td>Black</td>\n",
       "      <td>private</td>\n",
       "      <td>1</td>\n",
       "      <td>0</td>\n",
       "      <td>0.000000</td>\n",
       "      <td>developed</td>\n",
       "      <td>Husband</td>\n",
       "    </tr>\n",
       "    <tr>\n",
       "      <th>4</th>\n",
       "      <td>3.332205</td>\n",
       "      <td>1</td>\n",
       "      <td>40</td>\n",
       "      <td>Black</td>\n",
       "      <td>private</td>\n",
       "      <td>2</td>\n",
       "      <td>0</td>\n",
       "      <td>3.332205</td>\n",
       "      <td>developing</td>\n",
       "      <td>Wife</td>\n",
       "    </tr>\n",
       "  </tbody>\n",
       "</table>\n",
       "</div>"
      ],
      "text/plain": [
       "    log_age education_recat  hoursperweek    race workclass_private  sex  \\\n",
       "0  3.663562               1            40   White               gov    1   \n",
       "1  3.912023               1            13   White          self-emp    1   \n",
       "2  3.637586               3            40   White           private    1   \n",
       "3  3.970292               4            40   Black           private    1   \n",
       "4  3.332205               1            40   Black           private    2   \n",
       "\n",
       "   income  inter_agesex     country    relationship  \n",
       "0       0      0.000000   developed   Not-in-family  \n",
       "1       0      0.000000   developed         Husband  \n",
       "2       0      0.000000   developed   Not-in-family  \n",
       "3       0      0.000000   developed         Husband  \n",
       "4       0      3.332205  developing            Wife  "
      ]
     },
     "execution_count": 188,
     "metadata": {},
     "output_type": "execute_result"
    }
   ],
   "source": [
    "features.head()"
   ]
  },
  {
   "cell_type": "code",
   "execution_count": 189,
   "metadata": {},
   "outputs": [],
   "source": [
    "# create dummy variables, and their interactions\n",
    "y, X1 = dmatrices('C(income) ~ (hoursperweek)*C(country)', features, return_type=\"dataframe\")"
   ]
  },
  {
   "cell_type": "code",
   "execution_count": 190,
   "metadata": {},
   "outputs": [
    {
     "data": {
      "text/plain": [
       "LogisticRegression(C=1.0, class_weight=None, dual=False, fit_intercept=True,\n",
       "          intercept_scaling=1, max_iter=100, multi_class='ovr', n_jobs=1,\n",
       "          penalty='l2', random_state=None, solver='liblinear', tol=0.0001,\n",
       "          verbose=0, warm_start=False)"
      ]
     },
     "execution_count": 190,
     "metadata": {},
     "output_type": "execute_result"
    }
   ],
   "source": [
    "#Run logistic regression because we have categorical dependent variable(income)\n",
    "y=features['income']\n",
    "model=LogisticRegression()\n",
    "model.fit(X1,y)"
   ]
  },
  {
   "cell_type": "code",
   "execution_count": 191,
   "metadata": {},
   "outputs": [
    {
     "name": "stdout",
     "output_type": "stream",
     "text": [
      "Index(['Intercept', 'C(country)[T.developing]', 'C(country)[T.unknown]',\n",
      "       'hoursperweek', 'hoursperweek:C(country)[T.developing]',\n",
      "       'hoursperweek:C(country)[T.unknown]'],\n",
      "      dtype='object')\n",
      "[1.0, 0.0, 0.83, 0.0, 0.0, 0.0]\n"
     ]
    }
   ],
   "source": [
    "# check out p-values for each betas\n",
    "scores, p = chi2(X1, y)\n",
    "print(X1.columns)\n",
    "print([round(float(i), 2) for i in p])"
   ]
  },
  {
   "cell_type": "code",
   "execution_count": 192,
   "metadata": {},
   "outputs": [],
   "source": [
    "features['inter_hourctry1']=X1['hoursperweek:C(country)[T.developing]']\n",
    "features['inter_hourctry2']=X1['hoursperweek:C(country)[T.unknown]']"
   ]
  },
  {
   "cell_type": "code",
   "execution_count": 194,
   "metadata": {},
   "outputs": [
    {
     "data": {
      "text/html": [
       "<div>\n",
       "<style scoped>\n",
       "    .dataframe tbody tr th:only-of-type {\n",
       "        vertical-align: middle;\n",
       "    }\n",
       "\n",
       "    .dataframe tbody tr th {\n",
       "        vertical-align: top;\n",
       "    }\n",
       "\n",
       "    .dataframe thead th {\n",
       "        text-align: right;\n",
       "    }\n",
       "</style>\n",
       "<table border=\"1\" class=\"dataframe\">\n",
       "  <thead>\n",
       "    <tr style=\"text-align: right;\">\n",
       "      <th></th>\n",
       "      <th>log_age</th>\n",
       "      <th>education_recat</th>\n",
       "      <th>hoursperweek</th>\n",
       "      <th>race</th>\n",
       "      <th>workclass_private</th>\n",
       "      <th>sex</th>\n",
       "      <th>income</th>\n",
       "      <th>inter_agesex</th>\n",
       "      <th>country</th>\n",
       "      <th>relationship</th>\n",
       "      <th>inter_hourctry1</th>\n",
       "      <th>inter_hourctry2</th>\n",
       "    </tr>\n",
       "  </thead>\n",
       "  <tbody>\n",
       "    <tr>\n",
       "      <th>0</th>\n",
       "      <td>3.663562</td>\n",
       "      <td>1</td>\n",
       "      <td>40</td>\n",
       "      <td>White</td>\n",
       "      <td>gov</td>\n",
       "      <td>1</td>\n",
       "      <td>0</td>\n",
       "      <td>0.000000</td>\n",
       "      <td>developed</td>\n",
       "      <td>Not-in-family</td>\n",
       "      <td>0.0</td>\n",
       "      <td>0.0</td>\n",
       "    </tr>\n",
       "    <tr>\n",
       "      <th>1</th>\n",
       "      <td>3.912023</td>\n",
       "      <td>1</td>\n",
       "      <td>13</td>\n",
       "      <td>White</td>\n",
       "      <td>self-emp</td>\n",
       "      <td>1</td>\n",
       "      <td>0</td>\n",
       "      <td>0.000000</td>\n",
       "      <td>developed</td>\n",
       "      <td>Husband</td>\n",
       "      <td>0.0</td>\n",
       "      <td>0.0</td>\n",
       "    </tr>\n",
       "    <tr>\n",
       "      <th>2</th>\n",
       "      <td>3.637586</td>\n",
       "      <td>3</td>\n",
       "      <td>40</td>\n",
       "      <td>White</td>\n",
       "      <td>private</td>\n",
       "      <td>1</td>\n",
       "      <td>0</td>\n",
       "      <td>0.000000</td>\n",
       "      <td>developed</td>\n",
       "      <td>Not-in-family</td>\n",
       "      <td>0.0</td>\n",
       "      <td>0.0</td>\n",
       "    </tr>\n",
       "    <tr>\n",
       "      <th>3</th>\n",
       "      <td>3.970292</td>\n",
       "      <td>4</td>\n",
       "      <td>40</td>\n",
       "      <td>Black</td>\n",
       "      <td>private</td>\n",
       "      <td>1</td>\n",
       "      <td>0</td>\n",
       "      <td>0.000000</td>\n",
       "      <td>developed</td>\n",
       "      <td>Husband</td>\n",
       "      <td>0.0</td>\n",
       "      <td>0.0</td>\n",
       "    </tr>\n",
       "    <tr>\n",
       "      <th>4</th>\n",
       "      <td>3.332205</td>\n",
       "      <td>1</td>\n",
       "      <td>40</td>\n",
       "      <td>Black</td>\n",
       "      <td>private</td>\n",
       "      <td>2</td>\n",
       "      <td>0</td>\n",
       "      <td>3.332205</td>\n",
       "      <td>developing</td>\n",
       "      <td>Wife</td>\n",
       "      <td>40.0</td>\n",
       "      <td>0.0</td>\n",
       "    </tr>\n",
       "  </tbody>\n",
       "</table>\n",
       "</div>"
      ],
      "text/plain": [
       "    log_age education_recat  hoursperweek    race workclass_private  sex  \\\n",
       "0  3.663562               1            40   White               gov    1   \n",
       "1  3.912023               1            13   White          self-emp    1   \n",
       "2  3.637586               3            40   White           private    1   \n",
       "3  3.970292               4            40   Black           private    1   \n",
       "4  3.332205               1            40   Black           private    2   \n",
       "\n",
       "   income  inter_agesex     country    relationship  inter_hourctry1  \\\n",
       "0       0      0.000000   developed   Not-in-family              0.0   \n",
       "1       0      0.000000   developed         Husband              0.0   \n",
       "2       0      0.000000   developed   Not-in-family              0.0   \n",
       "3       0      0.000000   developed         Husband              0.0   \n",
       "4       0      3.332205  developing            Wife             40.0   \n",
       "\n",
       "   inter_hourctry2  \n",
       "0              0.0  \n",
       "1              0.0  \n",
       "2              0.0  \n",
       "3              0.0  \n",
       "4              0.0  "
      ]
     },
     "execution_count": 194,
     "metadata": {},
     "output_type": "execute_result"
    }
   ],
   "source": [
    "features.head()"
   ]
  }
 ],
 "metadata": {
  "kernelspec": {
   "display_name": "Python 3",
   "language": "python",
   "name": "python3"
  },
  "language_info": {
   "codemirror_mode": {
    "name": "ipython",
    "version": 3
   },
   "file_extension": ".py",
   "mimetype": "text/x-python",
   "name": "python",
   "nbconvert_exporter": "python",
   "pygments_lexer": "ipython3",
   "version": "3.6.4"
  }
 },
 "nbformat": 4,
 "nbformat_minor": 2
}
