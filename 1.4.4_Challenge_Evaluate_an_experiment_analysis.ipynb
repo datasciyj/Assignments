{
 "cells": [
  {
   "cell_type": "markdown",
   "metadata": {},
   "source": [
    "Now it's time to flex your critical evaluation skills. Read the following descriptions of an experiment and its analysis, identify the flaws in each, and describe what you would do to correct them.\n",
    "\n",
    "** 1. The Sith Lords are concerned that their recruiting slogan, \"Give In to Your Anger,\" isn't very effective. Darth Vader develops an alternative slogan, \"Together We Can Rule the Galaxy.\" They compare the slogans on two groups of 50 captured droids each. In one group, Emperor Palpatine delivers the \"Anger\" slogan. In the other, Darth Vader presents the \"Together\" slogan. 20 droids convert to the Dark Side after hearing Palpatine's slogan, while only 5 droids convert after hearing Vader's. The Sith's data scientist concludes that \"Anger\" is a more effective slogan and should continue to be used. **\n",
    "\n",
    "> The experimenter could affect the results unconciously, thus the experimenter should not know about the hypothesis. In addition, it is better that the same experimenter conduct all the conditions. The participants here are captured droids, so they tend to act following the intention of the experimenter. This also could affect the results, so there need to be no conflict of interest. "
   ]
  },
  {
   "cell_type": "markdown",
   "metadata": {},
   "source": [
    "** 2. In the past, the Jedi have had difficulty with public relations. They send two envoys, Jar Jar Binks and Mace Windu, to four friendly and four unfriendly planets respectively, with the goal of promoting favorable feelings toward the Jedi. Upon their return, the envoys learn that Jar Jar was much more effective than Windu: Over 75% of the people surveyed said their attitudes had become more favorable after speaking with Jar Jar, while only 65% said their attitudes had become more favorable after speaking with Windu. This makes Windu angry, because he is sure that he had a better success rate than Jar Jar on every planet. The Jedi choose Jar Jar to be their representative in the future. **\n",
    "\n",
    "> There might have been a Simpson's paradox here. Like data for Berkely graduate admissions in 1975, if the planets which Windu visited have many more people than that of Jar Jar only in the place where the rate was very low but better than Jar Jar, Windu has a better success rate on every planet but entire avereage could be lower than Jar Jar. It is also possible that Windu only visited unfriendly planets, so it was more difficult to change people's attitude for Windu. I would assign Jar Jar and Windu to 2 friendly and 2 unfriendly planets for each, and make them speak to the exact same number of people.    \n",
    "\n"
   ]
  },
  {
   "cell_type": "markdown",
   "metadata": {},
   "source": [
    "** 3. A company with work sites in five different countries has sent you data on employee satisfaction rates for workers in Human Resources and workers in Information Technology. Most HR workers are concentrated in three of the countries, while IT workers are equally distributed across worksites. The company requests a report on satisfaction for each job type. You calculate average job satisfaction for HR and for IT and present the report. **\n",
    "\n",
    "> If the three countries which most HR workers are concetrated in has much worse environment than the others, HR would have much worse jobsatisfaction than IT. In this case, just comparing average job satisfaction between HR and IT leads to biased conclusion. I think it is better to compare jobsatisfaction between two department for each country. "
   ]
  },
  {
   "cell_type": "markdown",
   "metadata": {},
   "source": [
    "** 4. When people install the Happy Days Fitness Tracker app, they are asked to \"opt in\" to a data collection scheme where their level of physical activity data is automatically sent to the company for product research purposes. During your interview with the company, they tell you that the app is very effective because after installing the app, the data show that people's activity levels rise steadily. **\n",
    "\n",
    "> It is possible that people who rejected the request for data collection acually show no increase in their acitivity levels. In this case, I would add some more information to the conclusion such as \"the data for people who agreed with data collection while using this app showed that people's activity levels rise steadily.\""
   ]
  },
  {
   "cell_type": "markdown",
   "metadata": {},
   "source": [
    "** 5. To prevent cheating, a teacher writes three versions of a test. She stacks the three versions together, first all copies of Version A, then all copies of Version B, then all copies of Version C. As students arrive for the exam, each student takes a test. When grading the test, the teacher finds that students who took Version B scored higher than students who took either Version A or Version C. She concludes from this that Version B is easier, and discards it. **\n",
    "\n",
    "> The results could have been biased if only smart students took Version B. In this case, I would randomly assign students for each 3 conditions, and examine whether previous test scores are significantly different among the three groups.  "
   ]
  },
  {
   "cell_type": "code",
   "execution_count": null,
   "metadata": {},
   "outputs": [],
   "source": []
  }
 ],
 "metadata": {
  "kernelspec": {
   "display_name": "Python 3",
   "language": "python",
   "name": "python3"
  },
  "language_info": {
   "codemirror_mode": {
    "name": "ipython",
    "version": 3
   },
   "file_extension": ".py",
   "mimetype": "text/x-python",
   "name": "python",
   "nbconvert_exporter": "python",
   "pygments_lexer": "ipython3",
   "version": "3.6.4"
  }
 },
 "nbformat": 4,
 "nbformat_minor": 2
}
