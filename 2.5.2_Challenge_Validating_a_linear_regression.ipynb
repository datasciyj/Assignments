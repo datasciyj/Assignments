{
 "cells": [
  {
   "cell_type": "code",
   "execution_count": 1,
   "metadata": {},
   "outputs": [],
   "source": [
    "%matplotlib inline\n",
    "import pandas as pd\n",
    "import numpy as np\n",
    "from matplotlib import pyplot as plt\n",
    "import seaborn as sns\n",
    "from sklearn import linear_model\n",
    "import statsmodels.formula.api as smf"
   ]
  },
  {
   "cell_type": "code",
   "execution_count": 2,
   "metadata": {},
   "outputs": [
    {
     "data": {
      "text/html": [
       "<div>\n",
       "<style scoped>\n",
       "    .dataframe tbody tr th:only-of-type {\n",
       "        vertical-align: middle;\n",
       "    }\n",
       "\n",
       "    .dataframe tbody tr th {\n",
       "        vertical-align: top;\n",
       "    }\n",
       "\n",
       "    .dataframe thead th {\n",
       "        text-align: right;\n",
       "    }\n",
       "</style>\n",
       "<table border=\"1\" class=\"dataframe\">\n",
       "  <thead>\n",
       "    <tr style=\"text-align: right;\">\n",
       "      <th></th>\n",
       "      <th>City</th>\n",
       "      <th>Population</th>\n",
       "      <th>Violent\n",
       "crime</th>\n",
       "      <th>Murder and\n",
       "nonnegligent\n",
       "manslaughter</th>\n",
       "      <th>Rape\n",
       "(revised\n",
       "definition)1</th>\n",
       "      <th>Rape\n",
       "(legacy\n",
       "definition)2</th>\n",
       "      <th>Robbery</th>\n",
       "      <th>Aggravated\n",
       "assault</th>\n",
       "      <th>Property\n",
       "crime</th>\n",
       "      <th>Burglary</th>\n",
       "      <th>Larceny-\n",
       "theft</th>\n",
       "      <th>Motor\n",
       "vehicle\n",
       "theft</th>\n",
       "      <th>Arson3</th>\n",
       "    </tr>\n",
       "  </thead>\n",
       "  <tbody>\n",
       "    <tr>\n",
       "      <th>0</th>\n",
       "      <td>Adams Village</td>\n",
       "      <td>1851.0</td>\n",
       "      <td>0.0</td>\n",
       "      <td>0.0</td>\n",
       "      <td>NaN</td>\n",
       "      <td>0.0</td>\n",
       "      <td>0.0</td>\n",
       "      <td>0.0</td>\n",
       "      <td>11.0</td>\n",
       "      <td>1.0</td>\n",
       "      <td>10.0</td>\n",
       "      <td>0.0</td>\n",
       "      <td>0.0</td>\n",
       "    </tr>\n",
       "    <tr>\n",
       "      <th>1</th>\n",
       "      <td>Addison Town and Village</td>\n",
       "      <td>2568.0</td>\n",
       "      <td>2.0</td>\n",
       "      <td>0.0</td>\n",
       "      <td>NaN</td>\n",
       "      <td>0.0</td>\n",
       "      <td>1.0</td>\n",
       "      <td>1.0</td>\n",
       "      <td>49.0</td>\n",
       "      <td>1.0</td>\n",
       "      <td>47.0</td>\n",
       "      <td>1.0</td>\n",
       "      <td>0.0</td>\n",
       "    </tr>\n",
       "    <tr>\n",
       "      <th>2</th>\n",
       "      <td>Afton Village4</td>\n",
       "      <td>820.0</td>\n",
       "      <td>0.0</td>\n",
       "      <td>0.0</td>\n",
       "      <td>0.0</td>\n",
       "      <td>NaN</td>\n",
       "      <td>0.0</td>\n",
       "      <td>0.0</td>\n",
       "      <td>1.0</td>\n",
       "      <td>0.0</td>\n",
       "      <td>1.0</td>\n",
       "      <td>0.0</td>\n",
       "      <td>0.0</td>\n",
       "    </tr>\n",
       "    <tr>\n",
       "      <th>3</th>\n",
       "      <td>Akron Village</td>\n",
       "      <td>2842.0</td>\n",
       "      <td>1.0</td>\n",
       "      <td>0.0</td>\n",
       "      <td>NaN</td>\n",
       "      <td>0.0</td>\n",
       "      <td>0.0</td>\n",
       "      <td>1.0</td>\n",
       "      <td>17.0</td>\n",
       "      <td>0.0</td>\n",
       "      <td>17.0</td>\n",
       "      <td>0.0</td>\n",
       "      <td>0.0</td>\n",
       "    </tr>\n",
       "    <tr>\n",
       "      <th>4</th>\n",
       "      <td>Albany4</td>\n",
       "      <td>98595.0</td>\n",
       "      <td>802.0</td>\n",
       "      <td>8.0</td>\n",
       "      <td>54.0</td>\n",
       "      <td>NaN</td>\n",
       "      <td>237.0</td>\n",
       "      <td>503.0</td>\n",
       "      <td>3888.0</td>\n",
       "      <td>683.0</td>\n",
       "      <td>3083.0</td>\n",
       "      <td>122.0</td>\n",
       "      <td>12.0</td>\n",
       "    </tr>\n",
       "  </tbody>\n",
       "</table>\n",
       "</div>"
      ],
      "text/plain": [
       "                       City  Population  Violent\\ncrime  \\\n",
       "0             Adams Village      1851.0             0.0   \n",
       "1  Addison Town and Village      2568.0             2.0   \n",
       "2            Afton Village4       820.0             0.0   \n",
       "3             Akron Village      2842.0             1.0   \n",
       "4                   Albany4     98595.0           802.0   \n",
       "\n",
       "   Murder and\\nnonnegligent\\nmanslaughter  Rape\\n(revised\\ndefinition)1  \\\n",
       "0                                     0.0                           NaN   \n",
       "1                                     0.0                           NaN   \n",
       "2                                     0.0                           0.0   \n",
       "3                                     0.0                           NaN   \n",
       "4                                     8.0                          54.0   \n",
       "\n",
       "   Rape\\n(legacy\\ndefinition)2  Robbery  Aggravated\\nassault  Property\\ncrime  \\\n",
       "0                          0.0      0.0                  0.0             11.0   \n",
       "1                          0.0      1.0                  1.0             49.0   \n",
       "2                          NaN      0.0                  0.0              1.0   \n",
       "3                          0.0      0.0                  1.0             17.0   \n",
       "4                          NaN    237.0                503.0           3888.0   \n",
       "\n",
       "   Burglary  Larceny-\\ntheft  Motor\\nvehicle\\ntheft  Arson3  \n",
       "0       1.0             10.0                    0.0     0.0  \n",
       "1       1.0             47.0                    1.0     0.0  \n",
       "2       0.0              1.0                    0.0     0.0  \n",
       "3       0.0             17.0                    0.0     0.0  \n",
       "4     683.0           3083.0                  122.0    12.0  "
      ]
     },
     "execution_count": 2,
     "metadata": {},
     "output_type": "execute_result"
    }
   ],
   "source": [
    "df=pd.read_excel('Table_8_Offenses_Known_to_Law_Enforcement_by_New_York_by_City_2014.xls',skiprows=[0,1,2,3])\n",
    "df.head()"
   ]
  },
  {
   "cell_type": "code",
   "execution_count": 26,
   "metadata": {},
   "outputs": [
    {
     "data": {
      "text/plain": [
       "Index(['City', 'Population', 'Violent\\ncrime',\n",
       "       'Murder and\\nnonnegligent\\nmanslaughter',\n",
       "       'Rape\\n(revised\\ndefinition)1', 'Rape\\n(legacy\\ndefinition)2',\n",
       "       'Robbery', 'Aggravated\\nassault', 'Property\\ncrime', 'Burglary',\n",
       "       'Larceny-\\ntheft', 'Motor\\nvehicle\\ntheft', 'Arson3', 'Murder_stand',\n",
       "       'Robbery_stand'],\n",
       "      dtype='object')"
      ]
     },
     "execution_count": 26,
     "metadata": {},
     "output_type": "execute_result"
    }
   ],
   "source": [
    "df.columns"
   ]
  },
  {
   "cell_type": "code",
   "execution_count": 25,
   "metadata": {},
   "outputs": [],
   "source": [
    "# converted features into values per 1000 people to standardization purpose\n",
    "\n",
    "test=pd.DataFrame()\n",
    "test['Population']=df['Population']\n",
    "# test['Murder_stand']=df['Murder and\\nnonnegligent\\nmanslaughter']/df['Population']*1000\n",
    "test['Robbery_stand']=df['Robbery']/df['Population']*1000\n",
    "# test['Assault_stand']=df['Aggravated\\nassault']/df['Population']*1000\n",
    "test['Burglary_stand']=df['Burglary']/df['Population']*1000\n",
    "test['Larceny_stand']=df['Larceny-\\ntheft']/df['Population']*1000\n",
    "# test['Vehicle_stand']=df['Motor\\nvehicle\\ntheft']/df['Population']*1000\n",
    "# test['Arson_stand']=df['Arson3']/df['Population']*1000\n",
    "test['Propertycrime']=df['Property\\ncrime']/df['Population']*1000\n",
    "\n",
    "test.head()\n",
    "test=test.dropna()"
   ]
  },
  {
   "cell_type": "code",
   "execution_count": 26,
   "metadata": {},
   "outputs": [
    {
     "data": {
      "text/html": [
       "<div>\n",
       "<style scoped>\n",
       "    .dataframe tbody tr th:only-of-type {\n",
       "        vertical-align: middle;\n",
       "    }\n",
       "\n",
       "    .dataframe tbody tr th {\n",
       "        vertical-align: top;\n",
       "    }\n",
       "\n",
       "    .dataframe thead th {\n",
       "        text-align: right;\n",
       "    }\n",
       "</style>\n",
       "<table border=\"1\" class=\"dataframe\">\n",
       "  <thead>\n",
       "    <tr style=\"text-align: right;\">\n",
       "      <th></th>\n",
       "      <th>Population</th>\n",
       "      <th>Robbery_stand</th>\n",
       "      <th>Burglary_stand</th>\n",
       "      <th>Larceny_stand</th>\n",
       "      <th>Propertycrime</th>\n",
       "    </tr>\n",
       "  </thead>\n",
       "  <tbody>\n",
       "    <tr>\n",
       "      <th>Population</th>\n",
       "      <td>1.000000</td>\n",
       "      <td>0.165978</td>\n",
       "      <td>-0.000809</td>\n",
       "      <td>0.004246</td>\n",
       "      <td>0.005580</td>\n",
       "    </tr>\n",
       "    <tr>\n",
       "      <th>Robbery_stand</th>\n",
       "      <td>0.165978</td>\n",
       "      <td>1.000000</td>\n",
       "      <td>0.455290</td>\n",
       "      <td>0.215906</td>\n",
       "      <td>0.274566</td>\n",
       "    </tr>\n",
       "    <tr>\n",
       "      <th>Burglary_stand</th>\n",
       "      <td>-0.000809</td>\n",
       "      <td>0.455290</td>\n",
       "      <td>1.000000</td>\n",
       "      <td>0.801190</td>\n",
       "      <td>0.856969</td>\n",
       "    </tr>\n",
       "    <tr>\n",
       "      <th>Larceny_stand</th>\n",
       "      <td>0.004246</td>\n",
       "      <td>0.215906</td>\n",
       "      <td>0.801190</td>\n",
       "      <td>1.000000</td>\n",
       "      <td>0.994579</td>\n",
       "    </tr>\n",
       "    <tr>\n",
       "      <th>Propertycrime</th>\n",
       "      <td>0.005580</td>\n",
       "      <td>0.274566</td>\n",
       "      <td>0.856969</td>\n",
       "      <td>0.994579</td>\n",
       "      <td>1.000000</td>\n",
       "    </tr>\n",
       "  </tbody>\n",
       "</table>\n",
       "</div>"
      ],
      "text/plain": [
       "                Population  Robbery_stand  Burglary_stand  Larceny_stand  \\\n",
       "Population        1.000000       0.165978       -0.000809       0.004246   \n",
       "Robbery_stand     0.165978       1.000000        0.455290       0.215906   \n",
       "Burglary_stand   -0.000809       0.455290        1.000000       0.801190   \n",
       "Larceny_stand     0.004246       0.215906        0.801190       1.000000   \n",
       "Propertycrime     0.005580       0.274566        0.856969       0.994579   \n",
       "\n",
       "                Propertycrime  \n",
       "Population           0.005580  \n",
       "Robbery_stand        0.274566  \n",
       "Burglary_stand       0.856969  \n",
       "Larceny_stand        0.994579  \n",
       "Propertycrime        1.000000  "
      ]
     },
     "metadata": {},
     "output_type": "display_data"
    }
   ],
   "source": [
    "display(test.corr())"
   ]
  },
  {
   "cell_type": "markdown",
   "metadata": {},
   "source": [
    "There are some high correlation between Robbery and Burglary, Larceny and Burglary. These pairs should not be included in the model together. <br>\n",
    "First, we decided to test out model which is <br>\n",
    "**'The number of Property crime for 1000 people = Robbery, Burglary and Larcenry each'**<br>\n",
    "The three features seem to be highly correlated with property crime, thus decided to be tested first. "
   ]
  },
  {
   "cell_type": "code",
   "execution_count": 30,
   "metadata": {},
   "outputs": [
    {
     "name": "stdout",
     "output_type": "stream",
     "text": [
      "With 20% Holdout: 0.10811481682979307\n",
      "Testing on Sample: 0.07538641941479018\n"
     ]
    },
    {
     "data": {
      "text/plain": [
       "array([ 0.27725568,  0.33199506,  0.09894963, -0.22488251,  0.12292125,\n",
       "        0.21635098, -0.04338042,  0.14386462,  0.33038169,  0.07888631])"
      ]
     },
     "execution_count": 30,
     "metadata": {},
     "output_type": "execute_result"
    }
   ],
   "source": [
    "# Test your model with different holdout groups.\n",
    "data=test[['Robbery_stand']]#,'Burglary_stand','Robbery_stand','Murder_stand']]\n",
    "target=test['Propertycrime']\n",
    "\n",
    "# Use train_test_split to create the necessary training and test groups\n",
    "X_train, X_test, y_train, y_test = train_test_split(data, target, test_size=0.2, random_state=20)\n",
    "print('With 20% Holdout: ' + str(regr.fit(X_train, y_train).score(X_test, y_test)))\n",
    "print('Testing on Sample: ' + str(regr.fit(data, target).score(data, target)))\n",
    "\n",
    "# cross validation\n",
    "cross_val_score(regr,data,target, cv=10)"
   ]
  },
  {
   "cell_type": "markdown",
   "metadata": {},
   "source": [
    "The score is not consistent among the folds."
   ]
  },
  {
   "cell_type": "code",
   "execution_count": 29,
   "metadata": {},
   "outputs": [
    {
     "name": "stdout",
     "output_type": "stream",
     "text": [
      "With 20% Holdout: 0.28971464700882155\n",
      "Testing on Sample: 0.7343963190989359\n"
     ]
    },
    {
     "data": {
      "text/plain": [
       "array([ 0.61545702,  0.58170796,  0.63767806,  0.27789086,  0.48148197,\n",
       "       -0.04078094,  0.72118109,  0.45835528,  0.51555775,  0.57548751])"
      ]
     },
     "execution_count": 29,
     "metadata": {},
     "output_type": "execute_result"
    }
   ],
   "source": [
    "# Test your model with different holdout groups.\n",
    "data=test[['Burglary_stand']]#,'Burglary_stand','Robbery_stand','Murder_stand']]\n",
    "target=test['Propertycrime']\n",
    "\n",
    "# Use train_test_split to create the necessary training and test groups\n",
    "X_train, X_test, y_train, y_test = train_test_split(data, target, test_size=0.2, random_state=20)\n",
    "print('With 20% Holdout: ' + str(regr.fit(X_train, y_train).score(X_test, y_test)))\n",
    "print('Testing on Sample: ' + str(regr.fit(data, target).score(data, target)))\n",
    "\n",
    "# cross validation\n",
    "cross_val_score(regr,data,target, cv=10)"
   ]
  },
  {
   "cell_type": "markdown",
   "metadata": {},
   "source": [
    "The score is not consistent among the folds."
   ]
  },
  {
   "cell_type": "code",
   "execution_count": 64,
   "metadata": {},
   "outputs": [
    {
     "name": "stdout",
     "output_type": "stream",
     "text": [
      "With 20% Holdout: 0.9739984777032402\n",
      "Testing on Sample: 0.9897853095036151\n"
     ]
    },
    {
     "data": {
      "text/plain": [
       "array([0.98233403, 0.98068189, 0.98568999, 0.97682881, 0.98299224,\n",
       "       0.94795422, 0.99746342, 0.95959183, 0.95978453, 0.98086479])"
      ]
     },
     "execution_count": 64,
     "metadata": {},
     "output_type": "execute_result"
    }
   ],
   "source": [
    "# Test your model with different holdout groups.\n",
    "data=test[['Larceny_stand']]#,'Burglary_stand','Robbery_stand','Murder_stand']]\n",
    "target=test['Propertycrime']\n",
    "\n",
    "# Use train_test_split to create the necessary training and test groups\n",
    "X_train, X_test, y_train, y_test = train_test_split(data, target, test_size=0.2, random_state=20)\n",
    "print('With 20% Holdout: ' + str(regr.fit(X_train, y_train).score(X_test, y_test)))\n",
    "print('Testing on Sample: ' + str(regr.fit(data, target).score(data, target)))\n",
    "\n",
    "# cross validation\n",
    "cross_val_score(regr,data,target, cv=10)"
   ]
  },
  {
   "cell_type": "markdown",
   "metadata": {},
   "source": [
    "The score is high and consistent when using both holdout and cross validation."
   ]
  },
  {
   "cell_type": "code",
   "execution_count": 77,
   "metadata": {},
   "outputs": [
    {
     "name": "stdout",
     "output_type": "stream",
     "text": [
      "estimates\n",
      " Intercept        0.994523\n",
      "Larceny_stand    1.150783\n",
      "dtype: float64\n",
      "pvalues\n",
      " Intercept        2.065593e-12\n",
      "Larceny_stand    0.000000e+00\n",
      "dtype: float64\n",
      "R-squared\n",
      " 0.989785309503615\n"
     ]
    }
   ],
   "source": [
    "import statsmodels.formula.api as smf\n",
    "from statsmodels.sandbox.regression.predstd import wls_prediction_std\n",
    "\n",
    "lm=smf.ols(formula='Propertycrime ~ Larceny_stand', data=test).fit()\n",
    "print('estimates\\n',lm.params)\n",
    "print('pvalues\\n',lm.pvalues)\n",
    "print('R-squared\\n',lm.rsquared)"
   ]
  },
  {
   "cell_type": "markdown",
   "metadata": {},
   "source": [
    "When examining parameter estimates and p values for each, Larceny is highly significant.<br>\n",
    "We can conclude the number of larceny per 1000 people only can predict the number of property crime per 1000 people. "
   ]
  }
 ],
 "metadata": {
  "kernelspec": {
   "display_name": "Python 3",
   "language": "python",
   "name": "python3"
  },
  "language_info": {
   "codemirror_mode": {
    "name": "ipython",
    "version": 3
   },
   "file_extension": ".py",
   "mimetype": "text/x-python",
   "name": "python",
   "nbconvert_exporter": "python",
   "pygments_lexer": "ipython3",
   "version": "3.6.4"
  }
 },
 "nbformat": 4,
 "nbformat_minor": 2
}
