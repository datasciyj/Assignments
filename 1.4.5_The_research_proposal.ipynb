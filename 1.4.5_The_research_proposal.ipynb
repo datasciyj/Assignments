{
 "cells": [
  {
   "cell_type": "markdown",
   "metadata": {},
   "source": [
    "** A company with work sites in five different countries has sent you data on employee satisfaction rates for workers in Human Resources and workers in Information Technology. Most HR workers are concentrated in three of the countries, while IT workers are equally distributed across worksites. The company requests a report on satisfaction for each job type. You calculate average job satisfaction for HR and for IT and present the report. **\n",
    "\n",
    "# The problem\n",
    "\n",
    "- How is employee satisfaction for workers HR and IT in our company? The employee satisfaction is highly related to the profit of our company. However, our company has five sites in different countries, and it is difficult to assess and manage workers' satisfaction. Since HR and IT are the two largest department in our company, it is important to obtain data from these two first in different countries."
   ]
  },
  {
   "cell_type": "markdown",
   "metadata": {},
   "source": [
    "# The potential solution\n",
    "\n",
    "- Since the environment for each countries could be significantly different, it is reasonable to see the employee satisfaction for each country with information of the work environment that could affect satisfaction in that country."
   ]
  },
  {
   "cell_type": "markdown",
   "metadata": {},
   "source": [
    "# The method of testing the solution\n",
    "\n",
    "- Find if there is large difference in employess satisfaction between five countries for each job type. If so, examine possible characteristic environmental factor that can have effect on the employee satisfaction. When comparing the satisfaction between HR and IT, it is more reasonable to compare these two for each country rather than comparing averaged job satisfaction across the countries. "
   ]
  }
 ],
 "metadata": {
  "kernelspec": {
   "display_name": "Python 3",
   "language": "python",
   "name": "python3"
  },
  "language_info": {
   "codemirror_mode": {
    "name": "ipython",
    "version": 3
   },
   "file_extension": ".py",
   "mimetype": "text/x-python",
   "name": "python",
   "nbconvert_exporter": "python",
   "pygments_lexer": "ipython3",
   "version": "3.6.4"
  }
 },
 "nbformat": 4,
 "nbformat_minor": 2
}
