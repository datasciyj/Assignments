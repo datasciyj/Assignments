{
 "cells": [
  {
   "cell_type": "markdown",
   "metadata": {},
   "source": [
    "# Capstone project\n",
    "\n",
    "For this project you'll dig into a large amount of text and apply most of what you've covered in this unit and in the course so far.\n",
    "\n",
    "First, pick a set of texts. This can be either a series of novels, chapters, or articles. Anything you'd like. It just has to have multiple entries of varying characteristics. At least 100 should be good. There should also be at least 10 different authors, but try to keep the texts related (either all on the same topic of from the same branch of literature - something to make classification a bit more difficult than obviously different subjects).\n",
    "\n",
    "This capstone can be an extension of your NLP challenge if you wish to use the same corpus. If you found problems with that data set that limited your analysis, however, it may be worth using what you learned to choose a new corpus. Reserve 25% of your corpus as a test set.\n",
    "\n",
    "The first technique is to create a series of clusters. Try several techniques and pick the one you think best represents your data. Make sure there is a narrative and reasoning around why you have chosen the given clusters. Are authors consistently grouped into the same cluster?\n",
    "\n",
    "Next, perform some unsupervised feature generation and selection using the techniques covered in this unit and elsewhere in the course. Using those features then build models to attempt to classify your texts by author. Try different permutations of unsupervised and supervised techniques to see which combinations have the best performance.\n",
    "\n",
    "Lastly return to your holdout group. Does your clustering on those members perform as you'd expect? Have your clusters remained stable or changed dramatically? What about your model? Is it's performance consistent?\n",
    "\n",
    "If there is a divergence in the relative stability of your model and your clusters, delve into why.\n",
    "\n",
    "Your end result should be a write up of how clustering and modeling compare for classifying your texts. What are the advantages of each? Why would you want to use one over the other? Approximately 3-5 pages is a good length for your write up, and remember to include visuals to help tell your story!"
   ]
  },
  {
   "cell_type": "code",
   "execution_count": 102,
   "metadata": {},
   "outputs": [],
   "source": [
    "%matplotlib inline\n",
    "import numpy as np\n",
    "import pandas as pd\n",
    "import scipy\n",
    "import sklearn\n",
    "import spacy\n",
    "import matplotlib.pyplot as plt\n",
    "import seaborn as sns\n",
    "import re\n",
    "from nltk.corpus import gutenberg, stopwords\n",
    "import nltk\n",
    "from collections import Counter\n",
    "from sklearn.model_selection import train_test_split"
   ]
  },
  {
   "cell_type": "code",
   "execution_count": 103,
   "metadata": {},
   "outputs": [
    {
     "name": "stdout",
     "output_type": "stream",
     "text": [
      "['austen-emma.txt', 'austen-persuasion.txt', 'austen-sense.txt', 'bible-kjv.txt', 'blake-poems.txt', 'bryant-stories.txt', 'burgess-busterbrown.txt', 'carroll-alice.txt', 'chesterton-ball.txt', 'chesterton-brown.txt', 'chesterton-thursday.txt', 'edgeworth-parents.txt', 'melville-moby_dick.txt', 'milton-paradise.txt', 'shakespeare-caesar.txt', 'shakespeare-hamlet.txt', 'shakespeare-macbeth.txt', 'whitman-leaves.txt']\n"
     ]
    }
   ],
   "source": [
    "print(gutenberg.fileids())"
   ]
  },
  {
   "cell_type": "markdown",
   "metadata": {},
   "source": [
    "# Load text data"
   ]
  },
  {
   "cell_type": "code",
   "execution_count": 104,
   "metadata": {},
   "outputs": [],
   "source": [
    "emma=gutenberg.raw('austen-emma.txt')\n",
    "kjv=gutenberg.raw('bible-kjv.txt')\n",
    "busterbrown=gutenberg.raw('burgess-busterbrown.txt')\n",
    "alice=gutenberg.raw('carroll-alice.txt')\n",
    "ball=gutenberg.raw('chesterton-ball.txt')\n",
    "parents=gutenberg.raw('edgeworth-parents.txt')\n",
    "mobydick=gutenberg.raw('melville-moby_dick.txt')\n",
    "paradise=gutenberg.raw('milton-paradise.txt')\n",
    "caesar=gutenberg.raw('shakespeare-caesar.txt')\n",
    "leaves=gutenberg.raw('whitman-leaves.txt')"
   ]
  },
  {
   "cell_type": "code",
   "execution_count": 105,
   "metadata": {},
   "outputs": [],
   "source": [
    "def text_cleaner(text):\n",
    "    # Visual inspection identifies a form of punctuation spaCy does not\n",
    "    # recognize: the double dash '--'.  Better get rid of it now!\n",
    "    text = re.sub(r'--',' ',text)\n",
    "    text = re.sub(\"[\\[].*?[\\]]\", \"\", text)\n",
    "    text = ' '.join(text.split())\n",
    "    return text"
   ]
  },
  {
   "cell_type": "code",
   "execution_count": 106,
   "metadata": {},
   "outputs": [],
   "source": [
    "# Cleaning each text\n",
    "\n",
    "emma = re.sub(r'CHAPTER .*', '', emma)\n",
    "emma = re.sub(r'VOLUME .*', '', emma)\n",
    "emma = text_cleaner(emma[0:35000])\n",
    "\n",
    "kjv = re.sub(r'\\d+:\\d+','', kjv)\n",
    "kjv = text_cleaner(kjv[0:35000])\n",
    "\n",
    "busterbrown = text_cleaner(busterbrown[0:35000])\n",
    "\n",
    "alice = re.sub(r'CHAPTER .*','',alice)\n",
    "alice = text_cleaner(alice[0:35000])\n",
    "\n",
    "ball = text_cleaner(ball[0:35000])\n",
    "\n",
    "parents = text_cleaner(parents[0:35000])\n",
    "\n",
    "mobydick = text_cleaner(mobydick[0:35000])\n",
    "\n",
    "paradise = re.sub(r'Book [IVX]','',paradise)\n",
    "paradise = text_cleaner(paradise[0:35000])\n",
    "\n",
    "caesar = text_cleaner(caesar[0:35000])\n",
    "\n",
    "leaves = text_cleaner(leaves[0:35000])"
   ]
  },
  {
   "cell_type": "code",
   "execution_count": 107,
   "metadata": {},
   "outputs": [],
   "source": [
    "\n",
    "nlp = spacy.load('en')\n",
    "\n",
    "emma_doc = nlp(emma)\n",
    "kjv_doc = nlp(kjv)\n",
    "busterbrown_doc = nlp(busterbrown)\n",
    "alice_doc = nlp(alice)\n",
    "ball_doc = nlp(ball)\n",
    "parents_doc = nlp(parents)\n",
    "mobydick_doc = nlp(mobydick)\n",
    "paradise_doc = nlp(paradise)\n",
    "caesar_doc = nlp(caesar)\n",
    "leaves_doc = nlp(leaves)"
   ]
  },
  {
   "cell_type": "code",
   "execution_count": 108,
   "metadata": {},
   "outputs": [],
   "source": [
    "# Group into sentences.\n",
    "emma_sents = [[sent, \"Austen\",1] for sent in emma_doc.sents]\n",
    "kjv_sents = [[sent, \"bible\",2] for sent in kjv_doc.sents]\n",
    "busterbrown_sents = [[sent, \"Burgess\",3] for sent in busterbrown_doc.sents]\n",
    "alice_sents = [[sent, \"Carroll\",4] for sent in alice_doc.sents]\n",
    "ball_sents = [[sent, \"Cherterton\",5] for sent in ball_doc.sents]\n",
    "parents_sents = [[sent, \"Edgeworth\",6] for sent in parents_doc.sents]\n",
    "mobydick_sents = [[sent, \"Melville\",7] for sent in mobydick_doc.sents]\n",
    "paradise_sents = [[sent, \"Milton\",8] for sent in paradise_doc.sents]\n",
    "caesar_sents = [[sent, \"Shakespeare\",9] for sent in caesar_doc.sents]\n",
    "leaves_sents = [[sent, \"Whitman\",10] for sent in leaves_doc.sents]"
   ]
  },
  {
   "cell_type": "code",
   "execution_count": 109,
   "metadata": {},
   "outputs": [
    {
     "name": "stdout",
     "output_type": "stream",
     "text": [
      "265 300 423 364 340 236 406 200 593 315\n"
     ]
    }
   ],
   "source": [
    "print(len(emma_sents),len(kjv_sents),len(busterbrown_sents),len(alice_sents),\n",
    "      len(ball_sents),len(parents_sents),len(mobydick_sents),len(paradise_sents),\n",
    "      len(caesar_sents),len(leaves_sents))"
   ]
  },
  {
   "cell_type": "code",
   "execution_count": 112,
   "metadata": {},
   "outputs": [],
   "source": [
    "sentences=[[str(sent) for sent in emma_doc.sents]+[str(sent) for sent in kjv_doc.sents]+\n",
    "[str(sent) for sent in busterbrown_doc.sents]+[str(sent) for sent in alice_doc.sents]+\n",
    "[str(sent) for sent in ball_doc.sents]+[str(sent) for sent in parents_doc.sents]+\n",
    "[str(sent) for sent in mobydick_doc.sents]+[str(sent) for sent in paradise_doc.sents]+\n",
    "[str(sent) for sent in caesar_doc.sents]+[str(sent) for sent in leaves_doc.sents]]\n",
    "\n",
    "sentences=sentences[0]\n",
    "\n",
    "author_code=([0]*len(emma_sents)+[1]*len(kjv_sents)+[2]*len(busterbrown_sents)+[3]*len(alice_sents) \n",
    "+[4]*len(ball_sents)+[5]*len(parents_sents)+[6]*len(mobydick_sents)+[7]*len(paradise_sents) \n",
    "+[8]*len(caesar_sents)+[9]*len(leaves_sents))\n",
    "\n",
    "df=pd.DataFrame()\n",
    "df['sentences']=sentences\n",
    "df['author_code']=author_code"
   ]
  },
  {
   "cell_type": "code",
   "execution_count": 111,
   "metadata": {},
   "outputs": [
    {
     "name": "stdout",
     "output_type": "stream",
     "text": [
      "Number of features: 3312\n",
      "Tf_idf vector: {'smarter': 0.3578218548864647, 'acquainted': 0.3915557741271254, 'smart': 0.33808877712832225, 'wasn': 0.3578218548864647, 'bit': 0.3329611170497163, 'buster': 0.45097870459732237, 'quite': 0.2794941200509133, 'know': 0.22391080014770018, 'little': 0.18387274900243136}\n"
     ]
    }
   ],
   "source": [
    "from sklearn.feature_extraction.text import TfidfVectorizer\n",
    "\n",
    "X=df['sentences']\n",
    "Y=df['author_code']\n",
    "\n",
    "vectorizer = TfidfVectorizer(max_df=0.5, # drop words that occur in more than half the paragraphs\n",
    "                             min_df=2, # only use words that appear at least twice\n",
    "                             stop_words='english', \n",
    "                             lowercase=True, #convert everything to lower case (since Alice in Wonderland has the HABIT of CAPITALIZING WORDS for EMPHASIS)\n",
    "                             use_idf=True,#we definitely want to use inverse document frequencies in our weighting\n",
    "                             norm=u'l2', #Applies a correction factor so that longer paragraphs and shorter paragraphs get treated equally\n",
    "                             smooth_idf=True #Adds 1 to all document frequencies, as if an extra document existed that used every word once.  Prevents divide-by-zero errors\n",
    "                            )\n",
    "\n",
    "#Applying the vectorizer\n",
    "paras_tfidf=vectorizer.fit_transform(X)\n",
    "print(\"Number of features: %d\" % paras_tfidf.get_shape()[1])\n",
    "\n",
    "#splitting into training and test sets\n",
    "X_train_tfidf, X_test_tfidf, Y_train, Y_test= train_test_split(paras_tfidf, Y, test_size=0.25, random_state=0)\n",
    "\n",
    "\n",
    "#Reshapes the vectorizer output into something people can read\n",
    "X_train_tfidf_csr = X_train_tfidf.tocsr()\n",
    "\n",
    "#number of paragraphs\n",
    "n = X_train_tfidf_csr.shape[0]\n",
    "#A list of dictionaries, one per paragraph\n",
    "tfidf_bypara = [{} for _ in range(0,n)]\n",
    "#List of features\n",
    "terms = vectorizer.get_feature_names()\n",
    "#for each paragraph, lists the feature words and their tf-idf scores\n",
    "for i, j in zip(*X_train_tfidf_csr.nonzero()):\n",
    "    tfidf_bypara[i][terms[j]] = X_train_tfidf_csr[i, j]\n",
    "\n",
    "#Keep in mind that the log base 2 of 1 is 0, so a tf-idf score of 0 indicates that the word was present once in that sentence.\n",
    "# print('Original sentence:', X_train[5])\n",
    "print('Tf_idf vector:', tfidf_bypara[5])"
   ]
  },
  {
   "cell_type": "code",
   "execution_count": 142,
   "metadata": {},
   "outputs": [
    {
     "name": "stdout",
     "output_type": "stream",
     "text": [
      "Comparing k-means clusters against authors:\n",
      "col_0    0   1    2\n",
      "row_0              \n",
      "0      261   0    4\n",
      "1      301   0  122\n",
      "2      251  49    0\n",
      "ARI :\n",
      "0.010361415879410633\n"
     ]
    }
   ],
   "source": [
    "# For testing, I just used 3 books \n",
    "a=[str(sent) for sent in emma_doc.sents]\n",
    "b=[str(sent) for sent in busterbrown_doc.sents]\n",
    "c=[str(sent) for sent in kjv_doc.sents]\n",
    "d=vectorizer.transform(a)\n",
    "e=vectorizer.transform(b)\n",
    "f=vectorizer.transform(c)\n",
    "\n",
    "\n",
    "abc=np.concatenate((d.toarray(),e.toarray(),f.toarray()), axis=0)\n",
    "\n",
    "Y=[0]*len(emma_sents)+[1]*len(busterbrown_sents)+[2]*len(kjv_sents)\n",
    "Y=np.transpose(Y)\n",
    "from sklearn.preprocessing import normalize\n",
    "from sklearn.cluster import KMeans\n",
    "\n",
    "# Normalize the data.\n",
    "X_norm = normalize(abc,axis=1)\n",
    "\n",
    "# Calculate predicted values.\n",
    "y_pred = KMeans(n_clusters=3, random_state=42).fit_predict(X_norm)\n",
    "\n",
    "# Check the solution against the data.\n",
    "print('Comparing k-means clusters against authors:')\n",
    "print(pd.crosstab(Y, y_pred))\n",
    "\n",
    "# Calculating Adjusted Rand Index\n",
    "from sklearn import metrics\n",
    "\n",
    "print('ARI :')\n",
    "print(metrics.adjusted_rand_score(Y, y_pred))"
   ]
  },
  {
   "cell_type": "code",
   "execution_count": 15,
   "metadata": {},
   "outputs": [
    {
     "name": "stdout",
     "output_type": "stream",
     "text": [
      "Comparing k-means clusters against authors:\n",
      "col_0         0    1    2   3   4   5   6   7   8   9\n",
      "author_code                                          \n",
      "0             4    1  177   0   3   3   1   0  10   0\n",
      "1             8    0   66  74   0   0  39   0  21  12\n",
      "2             9  129  157   0   3   1   0   0  13   0\n",
      "3             8    7  194   1   8  11   0   0  33   6\n",
      "4             8    2  216   6   3   1   0   0  23   3\n",
      "5             6    0  150   0   0   0   0   0  18   2\n",
      "6             5    1  240   3   0  50   0   0   3   8\n",
      "7             3    0  138   6   1   1   0   0   1   6\n",
      "8            16    0  311  18  36   0   0  39  10  13\n",
      "9             2    0  193  14   0   0   0   0   3  23\n",
      "ARI :\n",
      "0.018450424904392915\n"
     ]
    }
   ],
   "source": [
    "from sklearn.preprocessing import normalize\n",
    "from sklearn.cluster import KMeans\n",
    "\n",
    "# Normalize the data.\n",
    "X_norm = normalize(X_train_lsa,axis=1)\n",
    "\n",
    "# Calculate predicted values.\n",
    "y_pred = KMeans(n_clusters=10, random_state=42).fit_predict(X_norm)\n",
    "\n",
    "# Check the solution against the data.\n",
    "print('Comparing k-means clusters against authors:')\n",
    "print(pd.crosstab(Y_train, y_pred))\n",
    "\n",
    "# Calculating Adjusted Rand Index\n",
    "from sklearn import metrics\n",
    "\n",
    "print('ARI :')\n",
    "print(metrics.adjusted_rand_score(Y_train, y_pred))"
   ]
  }
 ],
 "metadata": {
  "kernelspec": {
   "display_name": "Python 3",
   "language": "python",
   "name": "python3"
  },
  "language_info": {
   "codemirror_mode": {
    "name": "ipython",
    "version": 3
   },
   "file_extension": ".py",
   "mimetype": "text/x-python",
   "name": "python",
   "nbconvert_exporter": "python",
   "pygments_lexer": "ipython3",
   "version": "3.6.8"
  }
 },
 "nbformat": 4,
 "nbformat_minor": 2
}
