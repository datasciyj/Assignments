{
 "cells": [
  {
   "cell_type": "markdown",
   "metadata": {},
   "source": [
    "# Prep Capstone: Data about Hair salon appointment no-shows\n",
    "_by Yunjin Bak_\n",
    "\n",
    "No shows have significant financial effect on hair salons. The financial damage not only include the customers who don't show up but also potential customers who could visit if there is no prior appointment, which makes it worse. If it is possible to understand no show customers' distinguishing behavior pattern, it would help hair salons to predict no-shows and take action to reduce it. In order to explore the characteristics that no show customers have, here I analyzed the data which have various information of no show customers and the others for hair salon. The data were obtained in 2018.\n",
    "\n",
    "## Additional applicable fields\n",
    "\n",
    "- Dentist, Doctor's office\n",
    "- Spa, Massage shops\n",
    "\n",
    "\n",
    "# Variable description\n",
    "\n",
    "|Field Name | Description \n",
    "|:-:|:---:|\n",
    "| book_tod | Booking time of day|\n",
    "| book_dow | The booking day-of-week.|\n",
    "|book_category|The booked service category (COLOR or STYLE)|\n",
    "|book_staff|The staff member to provide the service.|\n",
    "|last_category|The client's last booked service category before the current booking or today whichever is greater.|\n",
    "|last_staff|The staff member who provided the client's last service before the current booking or today whichever is greater.|\n",
    "|last_day_services|The number of services provided to the client on their last visit before the current booking or today whichever is greater.|\n",
    "|last_receipt_tot|The amount paid by the client on their last visit before the current booking or today whichever is greater.|\n",
    "|last_dow|The day-of-week of the client's last booking before before the current booking or today whichever is greater.|\n",
    "|last_tod|The time-of-day of the client's last booking before the current booking or today whichever is greater.|\n",
    "|last_nos|howDid the client no-show on their last booking before the current booking or today whichever is greater? (0 - no, 1 - yes)|\n",
    "|last_prod_flag|Did the client buy a retail product on their last booking before the current booking or today whichever is greater? (0 - no, 1 - yes)|\n",
    "|last_cumrev|The client's cumulative service revenue as of their last booking before the current booking or today whichever is greater.|\n",
    "|last_cumbook|The client's cumulative number of bookings as of their last booking before the current booking or today whichever is greater.|\n",
    "|last_cumstyle|The client's cumulative number of STYLE bookings as of their last booking before the current booking or today whichever is greater.|\n",
    "|last_cumcolor|The client's cumulative number of COLOR bookings as of their last booking before the current booking or today whichever is greater.|\n",
    "|last_cumprod|The client's cumulative number of bookings with retail product purchases as of their last booking before the current booking or today whichever is greater.|\n",
    "|last_cumcancel|The client's cumulative number of appointment cancellations as of their last booking before the current booking or today whichever is greater.|\n",
    "|last_cumnoshow|The client's cumulative number of no-shows as of their last booking before the current booking or today whichever is greater.|\n",
    "|noshow|Did the client no-show or execute an out-of-policy cancellation for this booking? (0 - no, 1 - yes)|\n",
    "|recency|The number of days since the client's last booking before the current booking or today whichever is greater.|"
   ]
  },
  {
   "cell_type": "markdown",
   "metadata": {},
   "source": [
    "# Describing and exploring the data"
   ]
  },
  {
   "cell_type": "code",
   "execution_count": 344,
   "metadata": {},
   "outputs": [
    {
     "name": "stdout",
     "output_type": "stream",
     "text": [
      "The chance of no show is 13.0 %\n"
     ]
    },
    {
     "data": {
      "image/png": "[encoded data removed]",
      "text/plain": [
       "<Figure size 432x288 with 1 Axes>"
      ]
     },
     "metadata": {},
     "output_type": "display_data"
    }
   ],
   "source": [
    "import pandas as pd\n",
    "import numpy as np\n",
    "import matplotlib.pyplot as plt\n",
    "%matplotlib inline\n",
    "\n",
    "#Load data\n",
    "df=pd.read_csv(\"hair_salon_no_show_wrangled_df.csv\")\n",
    "\n",
    "#Counting the number of Shows and No-Shows\n",
    "xaxis=['show','no show']\n",
    "bar=plt.bar(xaxis,df['noshow'].groupby(df['noshow']).count(),color=['gray','xkcd:azure'],edgecolor='black',width=0.5)\n",
    "\n",
    "plt.gca().spines['top'].set_visible(False)\n",
    "plt.gca().spines['right'].set_visible(False)\n",
    "plt.title('The number of shows and no-shows')\n",
    "\n",
    "for rect in bar:\n",
    "    height = rect.get_height()\n",
    "    plt.text(rect.get_x() + rect.get_width()/2.0, height, '%d' % height, ha='center', va='bottom')\n",
    "\n",
    "print('The chance of no show is %.1f' %(df[df['noshow']==1]['noshow'].count() / df[df['noshow']==0]['noshow'].count() * 100) , '%')\n",
    "\n"
   ]
  },
  {
   "cell_type": "code",
   "execution_count": 86,
   "metadata": {},
   "outputs": [
    {
     "data": {
      "text/html": [
       "<div>\n",
       "<style scoped>\n",
       "    .dataframe tbody tr th:only-of-type {\n",
       "        vertical-align: middle;\n",
       "    }\n",
       "\n",
       "    .dataframe tbody tr th {\n",
       "        vertical-align: top;\n",
       "    }\n",
       "\n",
       "    .dataframe thead th {\n",
       "        text-align: right;\n",
       "    }\n",
       "</style>\n",
       "<table border=\"1\" class=\"dataframe\">\n",
       "  <thead>\n",
       "    <tr style=\"text-align: right;\">\n",
       "      <th></th>\n",
       "      <th>book_tod</th>\n",
       "      <th>book_dow</th>\n",
       "      <th>book_category</th>\n",
       "      <th>book_staff</th>\n",
       "      <th>last_category</th>\n",
       "      <th>last_staff</th>\n",
       "      <th>last_day_services</th>\n",
       "      <th>last_receipt_tot</th>\n",
       "      <th>last_dow</th>\n",
       "      <th>last_tod</th>\n",
       "      <th>...</th>\n",
       "      <th>last_prod_flag</th>\n",
       "      <th>last_cumrev</th>\n",
       "      <th>last_cumbook</th>\n",
       "      <th>last_cumstyle</th>\n",
       "      <th>last_cumcolor</th>\n",
       "      <th>last_cumprod</th>\n",
       "      <th>last_cumcancel</th>\n",
       "      <th>last_cumnoshow</th>\n",
       "      <th>noshow</th>\n",
       "      <th>recency</th>\n",
       "    </tr>\n",
       "  </thead>\n",
       "  <tbody>\n",
       "    <tr>\n",
       "      <th>0</th>\n",
       "      <td>afternoon</td>\n",
       "      <td>Wednesday</td>\n",
       "      <td>STYLE</td>\n",
       "      <td>JJ</td>\n",
       "      <td>NaN</td>\n",
       "      <td>NaN</td>\n",
       "      <td>0</td>\n",
       "      <td>0.0</td>\n",
       "      <td>NaN</td>\n",
       "      <td>NaN</td>\n",
       "      <td>...</td>\n",
       "      <td>0</td>\n",
       "      <td>0</td>\n",
       "      <td>0</td>\n",
       "      <td>0</td>\n",
       "      <td>0</td>\n",
       "      <td>0</td>\n",
       "      <td>0</td>\n",
       "      <td>0</td>\n",
       "      <td>0</td>\n",
       "      <td>0</td>\n",
       "    </tr>\n",
       "    <tr>\n",
       "      <th>1</th>\n",
       "      <td>morning</td>\n",
       "      <td>Wednesday</td>\n",
       "      <td>COLOR</td>\n",
       "      <td>JOANNE</td>\n",
       "      <td>NaN</td>\n",
       "      <td>NaN</td>\n",
       "      <td>0</td>\n",
       "      <td>0.0</td>\n",
       "      <td>NaN</td>\n",
       "      <td>NaN</td>\n",
       "      <td>...</td>\n",
       "      <td>0</td>\n",
       "      <td>0</td>\n",
       "      <td>0</td>\n",
       "      <td>0</td>\n",
       "      <td>0</td>\n",
       "      <td>0</td>\n",
       "      <td>0</td>\n",
       "      <td>0</td>\n",
       "      <td>0</td>\n",
       "      <td>0</td>\n",
       "    </tr>\n",
       "    <tr>\n",
       "      <th>2</th>\n",
       "      <td>NaN</td>\n",
       "      <td>Wednesday</td>\n",
       "      <td>STYLE</td>\n",
       "      <td>JJ</td>\n",
       "      <td>COLOR</td>\n",
       "      <td>JOANNE</td>\n",
       "      <td>2</td>\n",
       "      <td>262.0</td>\n",
       "      <td>Wednesday</td>\n",
       "      <td>morning</td>\n",
       "      <td>...</td>\n",
       "      <td>1</td>\n",
       "      <td>262</td>\n",
       "      <td>2</td>\n",
       "      <td>1</td>\n",
       "      <td>1</td>\n",
       "      <td>2</td>\n",
       "      <td>0</td>\n",
       "      <td>0</td>\n",
       "      <td>0</td>\n",
       "      <td>35</td>\n",
       "    </tr>\n",
       "    <tr>\n",
       "      <th>3</th>\n",
       "      <td>afternoon</td>\n",
       "      <td>Thursday</td>\n",
       "      <td>STYLE</td>\n",
       "      <td>KELLY</td>\n",
       "      <td>NaN</td>\n",
       "      <td>NaN</td>\n",
       "      <td>0</td>\n",
       "      <td>0.0</td>\n",
       "      <td>NaN</td>\n",
       "      <td>NaN</td>\n",
       "      <td>...</td>\n",
       "      <td>0</td>\n",
       "      <td>0</td>\n",
       "      <td>0</td>\n",
       "      <td>0</td>\n",
       "      <td>0</td>\n",
       "      <td>0</td>\n",
       "      <td>0</td>\n",
       "      <td>0</td>\n",
       "      <td>0</td>\n",
       "      <td>0</td>\n",
       "    </tr>\n",
       "    <tr>\n",
       "      <th>4</th>\n",
       "      <td>evening</td>\n",
       "      <td>Saturday</td>\n",
       "      <td>STYLE</td>\n",
       "      <td>KELLY</td>\n",
       "      <td>STYLE</td>\n",
       "      <td>KELLY</td>\n",
       "      <td>1</td>\n",
       "      <td>35.0</td>\n",
       "      <td>Thursday</td>\n",
       "      <td>afternoon</td>\n",
       "      <td>...</td>\n",
       "      <td>0</td>\n",
       "      <td>35</td>\n",
       "      <td>1</td>\n",
       "      <td>1</td>\n",
       "      <td>0</td>\n",
       "      <td>0</td>\n",
       "      <td>0</td>\n",
       "      <td>0</td>\n",
       "      <td>0</td>\n",
       "      <td>9</td>\n",
       "    </tr>\n",
       "  </tbody>\n",
       "</table>\n",
       "<p>5 rows × 21 columns</p>\n",
       "</div>"
      ],
      "text/plain": [
       "    book_tod   book_dow book_category book_staff last_category last_staff  \\\n",
       "0  afternoon  Wednesday         STYLE         JJ           NaN        NaN   \n",
       "1    morning  Wednesday         COLOR     JOANNE           NaN        NaN   \n",
       "2        NaN  Wednesday         STYLE         JJ         COLOR     JOANNE   \n",
       "3  afternoon   Thursday         STYLE      KELLY           NaN        NaN   \n",
       "4    evening   Saturday         STYLE      KELLY         STYLE      KELLY   \n",
       "\n",
       "   last_day_services  last_receipt_tot   last_dow   last_tod   ...     \\\n",
       "0                  0               0.0        NaN        NaN   ...      \n",
       "1                  0               0.0        NaN        NaN   ...      \n",
       "2                  2             262.0  Wednesday    morning   ...      \n",
       "3                  0               0.0        NaN        NaN   ...      \n",
       "4                  1              35.0   Thursday  afternoon   ...      \n",
       "\n",
       "   last_prod_flag  last_cumrev  last_cumbook  last_cumstyle  last_cumcolor  \\\n",
       "0               0            0             0              0              0   \n",
       "1               0            0             0              0              0   \n",
       "2               1          262             2              1              1   \n",
       "3               0            0             0              0              0   \n",
       "4               0           35             1              1              0   \n",
       "\n",
       "   last_cumprod  last_cumcancel  last_cumnoshow  noshow  recency  \n",
       "0             0               0               0       0        0  \n",
       "1             0               0               0       0        0  \n",
       "2             2               0               0       0       35  \n",
       "3             0               0               0       0        0  \n",
       "4             0               0               0       0        9  \n",
       "\n",
       "[5 rows x 21 columns]"
      ]
     },
     "execution_count": 86,
     "metadata": {},
     "output_type": "execute_result"
    }
   ],
   "source": [
    "#Looking around the data\n",
    "df.head()"
   ]
  },
  {
   "cell_type": "code",
   "execution_count": 280,
   "metadata": {},
   "outputs": [
    {
     "data": {
      "text/plain": [
       "Unnamed: 0         count    1952.000000\n",
       "                   mean      975.500000\n",
       "                   std       563.638182\n",
       "                   min         0.000000\n",
       "                   25%       487.750000\n",
       "                   50%       975.500000\n",
       "                   75%      1463.250000\n",
       "                   max      1951.000000\n",
       "last_day_services  count    1952.000000\n",
       "                   mean        0.545082\n",
       "                   std         0.658514\n",
       "                   min         0.000000\n",
       "                   25%         0.000000\n",
       "                   50%         0.000000\n",
       "                   75%         1.000000\n",
       "                   max         3.000000\n",
       "last_receipt_tot   count    1952.000000\n",
       "                   mean       35.782679\n",
       "                   std        59.371877\n",
       "                   min         0.000000\n",
       "                   25%         0.000000\n",
       "                   50%         0.000000\n",
       "                   75%        60.000000\n",
       "                   max       382.800000\n",
       "last_noshow        count    1952.000000\n",
       "                   mean        0.076332\n",
       "                   std         0.265597\n",
       "                   min         0.000000\n",
       "                   25%         0.000000\n",
       "                   50%         0.000000\n",
       "                               ...     \n",
       "last_cumcancel     std         0.853646\n",
       "                   min         0.000000\n",
       "                   25%         0.000000\n",
       "                   50%         0.000000\n",
       "                   75%         0.000000\n",
       "                   max         8.000000\n",
       "last_cumnoshow     count    1952.000000\n",
       "                   mean        0.422643\n",
       "                   std         1.319786\n",
       "                   min         0.000000\n",
       "                   25%         0.000000\n",
       "                   50%         0.000000\n",
       "                   75%         0.000000\n",
       "                   max         9.000000\n",
       "noshow             count    1952.000000\n",
       "                   mean        0.114754\n",
       "                   std         0.318807\n",
       "                   min         0.000000\n",
       "                   25%         0.000000\n",
       "                   50%         0.000000\n",
       "                   75%         0.000000\n",
       "                   max         1.000000\n",
       "recency            count    1952.000000\n",
       "                   mean       14.402152\n",
       "                   std        21.079495\n",
       "                   min         0.000000\n",
       "                   25%         0.000000\n",
       "                   50%         1.000000\n",
       "                   75%        27.000000\n",
       "                   max       133.000000\n",
       "Length: 112, dtype: float64"
      ]
     },
     "execution_count": 280,
     "metadata": {},
     "output_type": "execute_result"
    }
   ],
   "source": [
    "#Describing the data\n",
    "df.describe().unstack()"
   ]
  },
  {
   "cell_type": "code",
   "execution_count": 282,
   "metadata": {},
   "outputs": [],
   "source": [
    "# Drop the unnecessary column\n",
    "df=df.drop(columns=['Unnamed: 0'])"
   ]
  },
  {
   "cell_type": "code",
   "execution_count": 284,
   "metadata": {},
   "outputs": [
    {
     "data": {
      "text/html": [
       "<div>\n",
       "<style scoped>\n",
       "    .dataframe tbody tr th:only-of-type {\n",
       "        vertical-align: middle;\n",
       "    }\n",
       "\n",
       "    .dataframe tbody tr th {\n",
       "        vertical-align: top;\n",
       "    }\n",
       "\n",
       "    .dataframe thead th {\n",
       "        text-align: right;\n",
       "    }\n",
       "</style>\n",
       "<table border=\"1\" class=\"dataframe\">\n",
       "  <thead>\n",
       "    <tr style=\"text-align: right;\">\n",
       "      <th></th>\n",
       "      <th>last_day_services</th>\n",
       "      <th>last_receipt_tot</th>\n",
       "      <th>last_noshow</th>\n",
       "      <th>last_prod_flag</th>\n",
       "      <th>last_cumrev</th>\n",
       "      <th>last_cumbook</th>\n",
       "      <th>last_cumstyle</th>\n",
       "      <th>last_cumcolor</th>\n",
       "      <th>last_cumprod</th>\n",
       "      <th>last_cumcancel</th>\n",
       "      <th>last_cumnoshow</th>\n",
       "      <th>recency</th>\n",
       "    </tr>\n",
       "    <tr>\n",
       "      <th>noshow</th>\n",
       "      <th></th>\n",
       "      <th></th>\n",
       "      <th></th>\n",
       "      <th></th>\n",
       "      <th></th>\n",
       "      <th></th>\n",
       "      <th></th>\n",
       "      <th></th>\n",
       "      <th></th>\n",
       "      <th></th>\n",
       "      <th></th>\n",
       "      <th></th>\n",
       "    </tr>\n",
       "  </thead>\n",
       "  <tbody>\n",
       "    <tr>\n",
       "      <th>0</th>\n",
       "      <td>0.539931</td>\n",
       "      <td>35.289821</td>\n",
       "      <td>0.060764</td>\n",
       "      <td>0.116898</td>\n",
       "      <td>97.443866</td>\n",
       "      <td>1.728588</td>\n",
       "      <td>1.347222</td>\n",
       "      <td>0.318866</td>\n",
       "      <td>0.491319</td>\n",
       "      <td>0.238426</td>\n",
       "      <td>0.320602</td>\n",
       "      <td>14.856481</td>\n",
       "    </tr>\n",
       "    <tr>\n",
       "      <th>1</th>\n",
       "      <td>0.584821</td>\n",
       "      <td>39.584732</td>\n",
       "      <td>0.196429</td>\n",
       "      <td>0.093750</td>\n",
       "      <td>217.825893</td>\n",
       "      <td>3.281250</td>\n",
       "      <td>2.857143</td>\n",
       "      <td>0.375000</td>\n",
       "      <td>0.455357</td>\n",
       "      <td>0.602679</td>\n",
       "      <td>1.209821</td>\n",
       "      <td>10.897321</td>\n",
       "    </tr>\n",
       "  </tbody>\n",
       "</table>\n",
       "</div>"
      ],
      "text/plain": [
       "        last_day_services  last_receipt_tot  last_noshow  last_prod_flag  \\\n",
       "noshow                                                                     \n",
       "0                0.539931         35.289821     0.060764        0.116898   \n",
       "1                0.584821         39.584732     0.196429        0.093750   \n",
       "\n",
       "        last_cumrev  last_cumbook  last_cumstyle  last_cumcolor  last_cumprod  \\\n",
       "noshow                                                                          \n",
       "0         97.443866      1.728588       1.347222       0.318866      0.491319   \n",
       "1        217.825893      3.281250       2.857143       0.375000      0.455357   \n",
       "\n",
       "        last_cumcancel  last_cumnoshow    recency  \n",
       "noshow                                             \n",
       "0             0.238426        0.320602  14.856481  \n",
       "1             0.602679        1.209821  10.897321  "
      ]
     },
     "execution_count": 284,
     "metadata": {},
     "output_type": "execute_result"
    }
   ],
   "source": [
    "# Comparing all numeric data between no show customers and the others\n",
    "df.groupby(df['noshow']).mean()"
   ]
  },
  {
   "cell_type": "code",
   "execution_count": 348,
   "metadata": {},
   "outputs": [
    {
     "data": {
      "text/plain": [
       "Text(0.5, 1.0, 'The percentage of booking for each staff member')"
      ]
     },
     "execution_count": 348,
     "metadata": {},
     "output_type": "execute_result"
    },
    {
     "data": {
      "image/png": "[encoded data removed]",
      "text/plain": [
       "<Figure size 720x360 with 1 Axes>"
      ]
     },
     "metadata": {},
     "output_type": "display_data"
    }
   ],
   "source": [
    "# The booked staff \n",
    "\n",
    "staff_raw=df.groupby(df['book_staff']).book_staff.count()\n",
    "staff=staff_raw/staff_raw.sum()*100\n",
    "\n",
    "N=7\n",
    "ind=np.arange(N)\n",
    "width=0.7\n",
    "\n",
    "fig=plt.figure(figsize=[10,5])\n",
    "ax=fig.add_subplot(111)\n",
    "\n",
    "ax.bar(staff.index, staff, width, color='xkcd:greyish blue', edgecolor='black')\n",
    "ax.spines['top'].set_visible(False)\n",
    "ax.spines['right'].set_visible(False)\n",
    "\n",
    "plt.ylabel('percentage')\n",
    "plt.xlabel('staff name')\n",
    "plt.title('The percentage of booking for each staff member')"
   ]
  },
  {
   "cell_type": "markdown",
   "metadata": {},
   "source": [
    "There is big difference in the number of bookings among the staffs. Is there also diffrence in percentage of no shows among the staffs?"
   ]
  },
  {
   "cell_type": "code",
   "execution_count": 372,
   "metadata": {},
   "outputs": [
    {
     "data": {
      "text/plain": [
       "book_tod\n",
       "afternoon    735\n",
       "evening      434\n",
       "morning      548\n",
       "Name: book_tod, dtype: int64"
      ]
     },
     "execution_count": 372,
     "metadata": {},
     "output_type": "execute_result"
    },
    {
     "data": {
      "image/png": "[encoded data removed]",
      "text/plain": [
       "<Figure size 432x288 with 1 Axes>"
      ]
     },
     "metadata": {},
     "output_type": "display_data"
    }
   ],
   "source": [
    "# The booking time of the day\n",
    "\n",
    "plt.pie(df.groupby(['book_tod']).book_tod.count(),labels=['afternoon','evening','morning'],autopct='%.1f%%')\n",
    "plt.title('The pecentage of booking time of the day')\n",
    "df.groupby(['book_tod']).book_tod.count()\n"
   ]
  },
  {
   "cell_type": "markdown",
   "metadata": {},
   "source": [
    "The bookings are made in afternoon the most. "
   ]
  },
  {
   "cell_type": "code",
   "execution_count": 357,
   "metadata": {},
   "outputs": [
    {
     "data": {
      "text/plain": [
       "Text(0.5, 0, 'The day of week')"
      ]
     },
     "execution_count": 357,
     "metadata": {},
     "output_type": "execute_result"
    },
    {
     "data": {
      "image/png": "[encoded data removed]",
      "text/plain": [
       "<Figure size 720x360 with 1 Axes>"
      ]
     },
     "metadata": {},
     "output_type": "display_data"
    }
   ],
   "source": [
    "# The booking day of the week\n",
    "dow_raw=df.groupby(['book_dow']).book_dow.count()\n",
    "dow=dow_raw/sum(dow_raw)*100\n",
    "\n",
    "newidx=['Monday','Tuesday','Wednesday', 'Thursday','Friday',  'Saturday', 'Sunday']\n",
    "\n",
    "dow=dow.reindex(newidx)\n",
    "\n",
    "N=7\n",
    "ind=np.arange(N)\n",
    "width=0.7\n",
    "\n",
    "fig=plt.figure(figsize=[10,5])\n",
    "ax=fig.add_subplot(111)\n",
    "\n",
    "ax.bar(dow.index, dow, width, color='xkcd:greyish blue', edgecolor='black')\n",
    "\n",
    "ax.spines['top'].set_visible(False)\n",
    "ax.spines['right'].set_visible(False)\n",
    "\n",
    "plt.title('The pecentage of booking day of week')\n",
    "plt.ylabel('percentage')\n",
    "plt.xlabel('The day of week')"
   ]
  },
  {
   "cell_type": "markdown",
   "metadata": {},
   "source": [
    "Thursday is the busiest day of week, and Sunday is the least busy day. What day does the hair salon have the great percentage of no shows to shows?   "
   ]
  },
  {
   "cell_type": "code",
   "execution_count": 329,
   "metadata": {},
   "outputs": [
    {
     "name": "stderr",
     "output_type": "stream",
     "text": [
      "/Users/yunjin/anaconda3/lib/python3.6/site-packages/matplotlib/axes/_axes.py:6499: MatplotlibDeprecationWarning: \n",
      "The 'normed' kwarg was deprecated in Matplotlib 2.1 and will be removed in 3.1. Use 'density' instead.\n",
      "  alternative=\"'density'\", removal=\"3.1\")\n"
     ]
    },
    {
     "data": {
      "text/plain": [
       "<matplotlib.axes._subplots.AxesSubplot at 0x1a1de1cb38>"
      ]
     },
     "execution_count": 329,
     "metadata": {},
     "output_type": "execute_result"
    },
    {
     "data": {
      "image/png": "[encoded data removed]",
      "text/plain": [
       "<Figure size 432x288 with 1 Axes>"
      ]
     },
     "metadata": {},
     "output_type": "display_data"
    }
   ],
   "source": [
    "#The client's cumulative number of bookings\n",
    "\n",
    "import seaborn as sns\n",
    "\n",
    "# plt.hist(df['last_cumbook'],bins=10)\n",
    "# plt.gca().spines['top'].set_visible(False)\n",
    "# plt.gca().spines['right'].set_visible(False)\n",
    "\n",
    "sns.distplot(df['last_cumbook'], hist=True, \n",
    "             bins=20, color = 'darkblue', \n",
    "             hist_kws={'edgecolor':'black'},\n",
    "             kde_kws={'linewidth': 1})"
   ]
  },
  {
   "cell_type": "markdown",
   "metadata": {},
   "source": [
    "# Analytic Questions\n",
    "**Is there a specific staff who has more no-shows than others?**"
   ]
  },
  {
   "cell_type": "code",
   "execution_count": 362,
   "metadata": {},
   "outputs": [
    {
     "name": "stdout",
     "output_type": "stream",
     "text": [
      "book_staff\n",
      "BECKY     21.296296\n",
      "HOUSE      1.099537\n",
      "JJ        37.789352\n",
      "JOANNE    13.599537\n",
      "KELLY     15.451389\n",
      "SINEAD     9.953704\n",
      "TANYA      0.810185\n",
      "Name: book_staff, dtype: float64 book_staff\n",
      "BECKY     30.357143\n",
      "HOUSE      0.446429\n",
      "JJ        30.803571\n",
      "JOANNE    11.160714\n",
      "KELLY     15.178571\n",
      "SINEAD    10.714286\n",
      "TANYA      1.339286\n",
      "Name: book_staff, dtype: float64\n"
     ]
    },
    {
     "data": {
      "text/plain": [
       "Text(0.5, 1.0, 'the percentage of show and no-show customers for each staff')"
      ]
     },
     "execution_count": 362,
     "metadata": {},
     "output_type": "execute_result"
    },
    {
     "data": {
      "image/png": "[encoded data removed]",
      "text/plain": [
       "<Figure size 720x360 with 1 Axes>"
      ]
     },
     "metadata": {},
     "output_type": "display_data"
    }
   ],
   "source": [
    "show_raw=df[df['noshow']==0].groupby(df['book_staff']).book_staff.count()\n",
    "noshow_raw=df[df['noshow']==1].groupby(df['book_staff']).book_staff.count()\n",
    "\n",
    "show=show_raw/show_raw.sum()*100\n",
    "noshow=noshow_raw/noshow_raw.sum()*100\n",
    "\n",
    "print(show, noshow)\n",
    "\n",
    "N=7\n",
    "ind=np.arange(N)\n",
    "width=0.2\n",
    "\n",
    "fig=plt.figure(figsize=[10,5])\n",
    "ax=fig.add_subplot(111)\n",
    "\n",
    "ax.bar(ind, show, width, color='gray', label='show')\n",
    "ax.bar(ind+width, noshow, width, color='xkcd:azure', label='noshow')\n",
    "ax.legend()\n",
    "ax.spines['top'].set_visible(False)\n",
    "ax.spines['right'].set_visible(False)\n",
    "\n",
    "ax.set_xticks(ind+width/2)\n",
    "ax.set_xticklabels(['BECKY','HOUSE','JJ','JOANNE','KELLY','SINEAD','TANYA'])\n",
    "plt.ylabel('percentage')\n",
    "plt.xlabel('booked staff')\n",
    "plt.title('the percentage of show and no-show customers for each staff')"
   ]
  },
  {
   "cell_type": "code",
   "execution_count": 365,
   "metadata": {},
   "outputs": [
    {
     "data": {
      "text/plain": [
       "Text(0.5, 1.0, 'The percentage of no-shows for each staff')"
      ]
     },
     "execution_count": 365,
     "metadata": {},
     "output_type": "execute_result"
    },
    {
     "data": {
      "image/png": "[encoded data removed]",
      "text/plain": [
       "<Figure size 432x288 with 1 Axes>"
      ]
     },
     "metadata": {},
     "output_type": "display_data"
    }
   ],
   "source": [
    "#no show percentage = no show / show+no show * 100\n",
    "\n",
    "noshow_pct=noshow_raw/(show_raw+noshow_raw)*100\n",
    "plt.bar(noshow_pct.index,noshow_pct,color='xkcd:azure', edgecolor='black')\n",
    "\n",
    "plt.gca().spines['top'].set_visible(False)\n",
    "plt.gca().spines['right'].set_visible(False)\n",
    "plt.ylabel('the probability of no show')\n",
    "plt.title('The percentage of no-shows for each staff')"
   ]
  },
  {
   "cell_type": "markdown",
   "metadata": {},
   "source": [
    "**What day do the customers don't show the most?**"
   ]
  },
  {
   "cell_type": "code",
   "execution_count": 366,
   "metadata": {},
   "outputs": [
    {
     "data": {
      "text/plain": [
       "Text(0.5, 0, 'booked staff')"
      ]
     },
     "execution_count": 366,
     "metadata": {},
     "output_type": "execute_result"
    },
    {
     "data": {
      "image/png": "[encoded data removed]",
      "text/plain": [
       "<Figure size 720x360 with 1 Axes>"
      ]
     },
     "metadata": {},
     "output_type": "display_data"
    }
   ],
   "source": [
    "#bar and line graph\n",
    "\n",
    "show_raw=df[df['noshow']==0].groupby(['book_dow']).book_dow.count()\n",
    "noshow_raw=df[df['noshow']==1].groupby(['book_dow']).book_dow.count()\n",
    "\n",
    "show=show_raw/sum(show_raw)*100\n",
    "noshow=noshow_raw/sum(noshow_raw)*100\n",
    "\n",
    "newidx=['Monday','Tuesday','Wednesday', 'Thursday','Friday',  'Saturday', 'Sunday']\n",
    "\n",
    "show=show.reindex(newidx)\n",
    "noshow=noshow.reindex(newidx)\n",
    "\n",
    "N=7\n",
    "ind=np.arange(N)\n",
    "width=0.2\n",
    "\n",
    "fig=plt.figure(figsize=[10,5])\n",
    "ax=fig.add_subplot(111)\n",
    "\n",
    "ax.bar(ind, show, width, color='gray', label='show')\n",
    "ax.bar(ind+width, noshow, width, color='xkcd:azure', label='noshow')\n",
    "ax.legend()\n",
    "ax.spines['top'].set_visible(False)\n",
    "ax.spines['right'].set_visible(False)\n",
    "\n",
    "ax.set_xticks(ind+width/2)\n",
    "ax.set_xticklabels(['Monday','Tuesday','Wednesday', 'Thursday','Friday',  'Saturday', 'Sunday'])\n",
    "plt.ylabel('percentage')\n",
    "plt.xlabel('booked staff')\n",
    "\n",
    "# Becky can work only on Sunday"
   ]
  },
  {
   "cell_type": "markdown",
   "metadata": {},
   "source": [
    ": Although Sunday takes the smallest amount of bookings, the percentage of no-shows are a lot more than that of shows on Sunday."
   ]
  },
  {
   "cell_type": "markdown",
   "metadata": {},
   "source": [
    "**When are the no show appointments during the day?**"
   ]
  },
  {
   "cell_type": "code",
   "execution_count": 166,
   "metadata": {},
   "outputs": [
    {
     "data": {
      "text/plain": [
       "Text(0.5, 1.0, 'no show')"
      ]
     },
     "execution_count": 166,
     "metadata": {},
     "output_type": "execute_result"
    },
    {
     "data": {
      "image/png": "[encoded data removed]",
      "text/plain": [
       "<Figure size 720x360 with 2 Axes>"
      ]
     },
     "metadata": {},
     "output_type": "display_data"
    }
   ],
   "source": [
    "show_raw=df[df['noshow']==0].groupby(['book_tod']).book_tod.count()\n",
    "noshow_raw=df[df['noshow']==1].groupby(['book_tod']).book_tod.count()\n",
    "\n",
    "show=show_raw/sum(show_raw)*100\n",
    "noshow=noshow_raw/sum(noshow_raw)*100\n",
    "\n",
    "fig=plt.figure(figsize=[10,5])\n",
    "ax=fig.add_subplot(121)\n",
    "\n",
    "ax.pie(show,labels=['afternoon','evening','morning'],autopct='%.1f%%')\n",
    "plt.title('show')\n",
    "\n",
    "ax2=fig.add_subplot(122)\n",
    "ax2.pie(noshow,labels=['afternoon','evening','morning'],autopct='%.1f%%')\n",
    "plt.title('no show')"
   ]
  },
  {
   "cell_type": "markdown",
   "metadata": {},
   "source": [
    ": no show customers tend to not show up for the afternoon booking considering booking time of the entire customers.\n",
    "#t-test needed"
   ]
  },
  {
   "cell_type": "markdown",
   "metadata": {},
   "source": [
    "**How many times do the no show customers visit this hair salon before? ** "
   ]
  },
  {
   "cell_type": "code",
   "execution_count": 367,
   "metadata": {},
   "outputs": [
    {
     "name": "stdout",
     "output_type": "stream",
     "text": [
      "last_cumbook\n",
      "first    67.824074\n",
      "1~5      25.000000\n",
      "6~10      3.587963\n",
      "11~15     2.719907\n",
      "16~20     0.868056\n",
      "Name: last_cumbook, dtype: float64 last_cumbook\n",
      "first    48.660714\n",
      "1~5      33.928571\n",
      "6~10      7.589286\n",
      "11~15     7.142857\n",
      "16~20     2.678571\n",
      "Name: last_cumbook, dtype: float64\n"
     ]
    },
    {
     "data": {
      "text/plain": [
       "Text(0.5, 0, 'booked staff')"
      ]
     },
     "execution_count": 367,
     "metadata": {},
     "output_type": "execute_result"
    },
    {
     "data": {
      "image/png": "[encoded data removed]",
      "text/plain": [
       "<Figure size 720x360 with 1 Axes>"
      ]
     },
     "metadata": {},
     "output_type": "display_data"
    }
   ],
   "source": [
    "#provide percentage of the data\n",
    "#categorize cumulative numbers of previous booking: first time, 1-5, 6-10, 11-15, 16-20\n",
    "#whether they are regular customers or first visitor. How can we define the regular customers?\n",
    "\n",
    "show_cat=pd.cut(df[df['noshow']==0].last_cumbook, bins=[0,1,6,10,15,21], labels=['first','1~5','6~10','11~15','16~20'],include_lowest=True)\n",
    "noshow_cat=pd.cut(df[df['noshow']==1].last_cumbook, bins=[0,1,6,10,15,21], labels=['first','1~5','6~10','11~15','16~20'],include_lowest=True)\n",
    "\n",
    "show=df[df['noshow']==0].groupby(show_cat).last_cumbook.count()\n",
    "noshow=df[df['noshow']==1].groupby(noshow_cat).last_cumbook.count()\n",
    "\n",
    "show=show/sum(show_raw)*100\n",
    "noshow=noshow/sum(noshow_raw)*100\n",
    "\n",
    "print(show,noshow)\n",
    "N=5\n",
    "ind=np.arange(N)\n",
    "width=0.2\n",
    "\n",
    "fig=plt.figure(figsize=[10,5])\n",
    "ax=fig.add_subplot(111)\n",
    "\n",
    "ax.bar(ind, show, width, color='gray', label='show')\n",
    "ax.bar(ind+width, noshow, width, color='xkcd:azure', label='noshow')\n",
    "ax.legend()\n",
    "ax.spines['top'].set_visible(False)\n",
    "ax.spines['right'].set_visible(False)\n",
    "\n",
    "ax.set_xticks(ind+width/2)\n",
    "ax.set_xticklabels(['first', '1~5', '6~10', '11~15', '16~20'])\n",
    "plt.ylabel('percentage')\n",
    "plt.xlabel('booked staff')\n"
   ]
  },
  {
   "cell_type": "code",
   "execution_count": 369,
   "metadata": {},
   "outputs": [
    {
     "name": "stdout",
     "output_type": "stream",
     "text": [
      "Ttest_indResult(statistic=-6.6668402263873165, pvalue=3.3919724431062694e-11)\n"
     ]
    },
    {
     "data": {
      "image/png": "[encoded data removed]",
      "text/plain": [
       "<Figure size 432x288 with 1 Axes>"
      ]
     },
     "metadata": {},
     "output_type": "display_data"
    }
   ],
   "source": [
    "from scipy import stats\n",
    "\n",
    "xaxis=['show','no show']\n",
    "xvalues=[df[df['noshow']==0].last_cumbook.mean(),df[df['noshow']==1].last_cumbook.mean()]\n",
    "bar=plt.bar(xaxis,xvalues,color=['gray','xkcd:azure'],edgecolor='black',width=0.5)\n",
    "plt.gca().spines['top'].set_visible(False)\n",
    "plt.gca().spines['right'].set_visible(False)\n",
    "\n",
    "for rect in bar:\n",
    "    height = rect.get_height()\n",
    "    plt.text(rect.get_x() + rect.get_width()/2.0, height, '%.2f' % height, ha='center', va='bottom')\n",
    "\n",
    "    \n",
    "print(stats.ttest_ind(df[df['noshow']==0].last_cumbook,df[df['noshow']==1].last_cumbook))"
   ]
  },
  {
   "cell_type": "markdown",
   "metadata": {},
   "source": [
    "**Do the no show customers tend to not show up frequently? ** "
   ]
  },
  {
   "cell_type": "code",
   "execution_count": 375,
   "metadata": {},
   "outputs": [
    {
     "name": "stdout",
     "output_type": "stream",
     "text": [
      "last_cumnoshow\n",
      "0    1539\n",
      "1      63\n",
      "2      41\n",
      "3      27\n",
      "4      11\n",
      "5      24\n",
      "6       4\n",
      "7      14\n",
      "8       3\n",
      "9       2\n",
      "Name: last_cumnoshow, dtype: int64 last_cumnoshow\n",
      "0    145\n",
      "1     20\n",
      "2     15\n",
      "3     11\n",
      "4      9\n",
      "5      7\n",
      "6      7\n",
      "7      6\n",
      "8      3\n",
      "9      1\n",
      "Name: last_cumnoshow, dtype: int64\n"
     ]
    },
    {
     "name": "stderr",
     "output_type": "stream",
     "text": [
      "/Users/yunjin/anaconda3/lib/python3.6/site-packages/matplotlib/axes/_axes.py:6499: MatplotlibDeprecationWarning: \n",
      "The 'normed' kwarg was deprecated in Matplotlib 2.1 and will be removed in 3.1. Use 'density' instead.\n",
      "  alternative=\"'density'\", removal=\"3.1\")\n"
     ]
    },
    {
     "data": {
      "text/plain": [
       "<matplotlib.axes._subplots.AxesSubplot at 0x1a2073ad30>"
      ]
     },
     "execution_count": 375,
     "metadata": {},
     "output_type": "execute_result"
    },
    {
     "data": {
      "image/png": "[encoded data removed]",
      "text/plain": [
       "<Figure size 432x288 with 1 Axes>"
      ]
     },
     "metadata": {},
     "output_type": "display_data"
    }
   ],
   "source": [
    "import seaborn as sns\n",
    "\n",
    "show_raw=df[df['noshow']==0].groupby(['last_cumnoshow']).last_cumnoshow.count()\n",
    "noshow_raw=df[df['noshow']==1].groupby(['last_cumnoshow']).last_cumnoshow.count()\n",
    "\n",
    "print(show_raw,noshow_raw)\n",
    "\n",
    "\n",
    "# plt.hist(df[df['noshow']==0].last_cumnoshow, color='gray')\n",
    "# plt.hist(df[df['noshow']==1].last_cumnoshow, color='r')\n",
    "# sns.distplot(df[df['noshow']==0].last_cumnoshow,bins=10)\n",
    "#density plot\n",
    "\n",
    "sns.distplot(df[df['noshow']==0].last_cumnoshow, hist=True, \n",
    "             bins=20, color = 'gray', \n",
    "             hist_kws={'edgecolor':'black'},\n",
    "             kde_kws={'linewidth': 1})\n",
    "sns.distplot(df[df['noshow']==1].last_cumnoshow, hist=True, \n",
    "             bins=20, color = 'xkcd:azure', \n",
    "             hist_kws={'edgecolor':'black'},\n",
    "             kde_kws={'linewidth': 1})"
   ]
  },
  {
   "cell_type": "code",
   "execution_count": 370,
   "metadata": {},
   "outputs": [
    {
     "data": {
      "text/plain": [
       "Ttest_indResult(statistic=-9.711976148551406, pvalue=8.287566101436737e-22)"
      ]
     },
     "execution_count": 370,
     "metadata": {},
     "output_type": "execute_result"
    },
    {
     "data": {
      "image/png": "[encoded data removed]",
      "text/plain": [
       "<Figure size 432x288 with 1 Axes>"
      ]
     },
     "metadata": {},
     "output_type": "display_data"
    }
   ],
   "source": [
    "from scipy import stats\n",
    "\n",
    "xaxis=['show','no show']\n",
    "xvalues=[df[df['noshow']==0].last_cumnoshow.mean(),df[df['noshow']==1].last_cumnoshow.mean()]\n",
    "bar=plt.bar(xaxis,xvalues,color=['gray','xkcd:azure'],edgecolor='black',width=0.5)\n",
    "plt.gca().spines['top'].set_visible(False)\n",
    "plt.gca().spines['right'].set_visible(False)\n",
    "\n",
    "for rect in bar:\n",
    "    height = rect.get_height()\n",
    "    plt.text(rect.get_x() + rect.get_width()/2.0, height, '%.2f' % height, ha='center', va='bottom')\n",
    "\n",
    "stats.ttest_ind(df[df['noshow']==0].last_cumnoshow,df[df['noshow']==1].last_cumnoshow)"
   ]
  },
  {
   "cell_type": "markdown",
   "metadata": {},
   "source": [
    "**Future study** \n",
    "\n",
    "1. What kind of feature would be the most important to classify no show clients?\n",
    "2. When combining important features from the data, is the classifier able to reliably predict no show clients?"
   ]
  },
  {
   "cell_type": "code",
   "execution_count": null,
   "metadata": {},
   "outputs": [],
   "source": []
  }
 ],
 "metadata": {
  "kernelspec": {
   "display_name": "Python 3",
   "language": "python",
   "name": "python3"
  },
  "language_info": {
   "codemirror_mode": {
    "name": "ipython",
    "version": 3
   },
   "file_extension": ".py",
   "mimetype": "text/x-python",
   "name": "python",
   "nbconvert_exporter": "python",
   "pygments_lexer": "ipython3",
   "version": "3.6.4"
  }
 },
 "nbformat": 4,
 "nbformat_minor": 2
}
