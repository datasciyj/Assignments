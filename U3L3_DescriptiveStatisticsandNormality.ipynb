{
 "cells": [
  {
   "cell_type": "markdown",
   "metadata": {},
   "source": [
    "# Descriptive statistics and normality"
   ]
  },
  {
   "cell_type": "markdown",
   "metadata": {},
   "source": [
    "For each distribution:\n",
    "\n",
    "1. Generate a random variable with 100 datapoints using the code distributionvar = np.random.distributionname([arguments], 100), replacing distributionvar with an appropriate variable name and distributionname with the name of the distribution you’ve chosen, and filling in the empty space in the parentheses with your chosen values for the appropriate parameters. If you feel uncertain about how to do this, go back to the “Other Distributions” assignment for examples of code to use as a starting point.\n",
    "\n",
    "2. Graph the variable using a histogram.\n",
    "\n",
    "3. Compute the mean and standard deviation and plot them as vertical lines on the histogram. (Hint: the “When Does It Break?” assignment you just completed can help you here.)\n",
    "\n",
    "4. Evaluate whether the descriptive statistics provided useful information about the variable. Can you identify any common characteristics of the distributions that could be usefully described using the mean and/or standard deviation, versus the ones that could not?"
   ]
  },
  {
   "cell_type": "code",
   "execution_count": 5,
   "metadata": {},
   "outputs": [],
   "source": [
    "import matplotlib.pyplot as plt\n",
    "import numpy as np\n",
    "%matplotlib inline"
   ]
  },
  {
   "cell_type": "markdown",
   "metadata": {},
   "source": [
    "## 1.Gamma"
   ]
  },
  {
   "cell_type": "code",
   "execution_count": 55,
   "metadata": {},
   "outputs": [
    {
     "data": {
      "text/plain": [
       "<matplotlib.lines.Line2D at 0x11f2000b8>"
      ]
     },
     "execution_count": 55,
     "metadata": {},
     "output_type": "execute_result"
    },
    {
     "data": {
      "image/png": "[encoded data removed]",
      "text/plain": [
       "<matplotlib.figure.Figure at 0x11f148940>"
      ]
     },
     "metadata": {},
     "output_type": "display_data"
    }
   ],
   "source": [
    "gamma=np.random.gamma(5,1,100)\n",
    "plt.hist(gamma, color='c')\n",
    "plt.axvline(gamma.mean(), color='gray', linestyle='solid', linewidth=2)\n",
    "plt.axvline(gamma.mean()-gamma.std(), color='gray', linestyle='dashed', linewidth=2)\n",
    "plt.axvline(gamma.mean()+gamma.std(), color='gray', linestyle='dashed', linewidth=2)"
   ]
  },
  {
   "cell_type": "markdown",
   "metadata": {},
   "source": [
    "## 2. chisquare"
   ]
  },
  {
   "cell_type": "code",
   "execution_count": 13,
   "metadata": {},
   "outputs": [
    {
     "data": {
      "text/plain": [
       "<matplotlib.lines.Line2D at 0x11d1751d0>"
      ]
     },
     "execution_count": 13,
     "metadata": {},
     "output_type": "execute_result"
    },
    {
     "data": {
      "image/png": "[encoded data removed]",
      "text/plain": [
       "<matplotlib.figure.Figure at 0x11247fba8>"
      ]
     },
     "metadata": {},
     "output_type": "display_data"
    }
   ],
   "source": [
    "cq=np.random.chisquare(5,100)\n",
    "plt.hist(cq, color='c')\n",
    "plt.axvline(cq.mean(),color='gray',linestyle='solid',linewidth=2)\n",
    "plt.axvline(cq.mean()-cq.std(),color='gray',linestyle='dashed',linewidth=2)\n",
    "plt.axvline(cq.mean()+cq.std(),color='gray',linestyle='dashed',linewidth=2)"
   ]
  },
  {
   "cell_type": "markdown",
   "metadata": {},
   "source": [
    "##  3. exponential"
   ]
  },
  {
   "cell_type": "code",
   "execution_count": 34,
   "metadata": {},
   "outputs": [
    {
     "data": {
      "text/plain": [
       "<matplotlib.lines.Line2D at 0x11e331208>"
      ]
     },
     "execution_count": 34,
     "metadata": {},
     "output_type": "execute_result"
    },
    {
     "data": {
      "image/png": "[encoded data removed]",
      "text/plain": [
       "<matplotlib.figure.Figure at 0x11e1c3d68>"
      ]
     },
     "metadata": {},
     "output_type": "display_data"
    }
   ],
   "source": [
    "ex=np.random.exponential(10,100)\n",
    "plt.hist(ex, color='c')\n",
    "plt.axvline(ex.mean(),color='gray',linestyle='solid',linewidth=2)\n",
    "plt.axvline(ex.mean()-cq.std(),color='gray',linestyle='dashed',linewidth=2)\n",
    "plt.axvline(ex.mean()+cq.std(),color='gray',linestyle='dashed',linewidth=2)"
   ]
  },
  {
   "cell_type": "markdown",
   "metadata": {},
   "source": [
    "## 4. logistic"
   ]
  },
  {
   "cell_type": "code",
   "execution_count": 29,
   "metadata": {},
   "outputs": [
    {
     "data": {
      "text/plain": [
       "<matplotlib.lines.Line2D at 0x11deee710>"
      ]
     },
     "execution_count": 29,
     "metadata": {},
     "output_type": "execute_result"
    },
    {
     "data": {
      "image/png": "[encoded data removed]",
      "text/plain": [
       "<matplotlib.figure.Figure at 0x11de29278>"
      ]
     },
     "metadata": {},
     "output_type": "display_data"
    }
   ],
   "source": [
    "lg=np.random.logistic(5,5,100)\n",
    "plt.hist(lg, color='c')\n",
    "plt.axvline(lg.mean(),color='gray',linestyle='solid',linewidth=2)\n",
    "plt.axvline(lg.mean()-cq.std(),color='gray',linestyle='dashed',linewidth=2)\n",
    "plt.axvline(lg.mean()+cq.std(),color='gray',linestyle='dashed',linewidth=2)"
   ]
  },
  {
   "cell_type": "markdown",
   "metadata": {},
   "source": [
    "## 5. logseries"
   ]
  },
  {
   "cell_type": "code",
   "execution_count": 42,
   "metadata": {},
   "outputs": [
    {
     "data": {
      "text/plain": [
       "<matplotlib.lines.Line2D at 0x11e86a358>"
      ]
     },
     "execution_count": 42,
     "metadata": {},
     "output_type": "execute_result"
    },
    {
     "data": {
      "image/png": "[encoded data removed]",
      "text/plain": [
       "<matplotlib.figure.Figure at 0x11e7b0828>"
      ]
     },
     "metadata": {},
     "output_type": "display_data"
    }
   ],
   "source": [
    "lg=np.random.logseries(0.9,100)\n",
    "plt.hist(lg, color='c')\n",
    "plt.axvline(lg.mean(),color='gray',linestyle='solid',linewidth=2)\n",
    "plt.axvline(lg.mean()-cq.std(),color='gray',linestyle='dashed',linewidth=2)\n",
    "plt.axvline(lg.mean()+cq.std(),color='gray',linestyle='dashed',linewidth=2)"
   ]
  },
  {
   "cell_type": "markdown",
   "metadata": {},
   "source": [
    "**Answer 4**\n",
    "Means and standard deviations of all the 6 non-normal distributions are not useful statistics for describing the data. The data are not centered to the means, and standard deviations don't include same amount of clusters on each side of the mean. "
   ]
  },
  {
   "cell_type": "markdown",
   "metadata": {},
   "source": [
    "## 6.power"
   ]
  },
  {
   "cell_type": "code",
   "execution_count": 54,
   "metadata": {},
   "outputs": [
    {
     "data": {
      "text/plain": [
       "<matplotlib.lines.Line2D at 0x11f11a710>"
      ]
     },
     "execution_count": 54,
     "metadata": {},
     "output_type": "execute_result"
    },
    {
     "data": {
      "image/png": "[encoded data removed]",
      "text/plain": [
       "<matplotlib.figure.Figure at 0x11eebb668>"
      ]
     },
     "metadata": {},
     "output_type": "display_data"
    }
   ],
   "source": [
    "lg=np.random.power(1.0,100)\n",
    "plt.hist(lg, color='c')\n",
    "plt.axvline(lg.mean(),color='gray',linestyle='solid',linewidth=2)\n",
    "plt.axvline(lg.mean()-cq.std(),color='gray',linestyle='dashed',linewidth=2)\n",
    "plt.axvline(lg.mean()+cq.std(),color='gray',linestyle='dashed',linewidth=2)"
   ]
  },
  {
   "cell_type": "markdown",
   "metadata": {},
   "source": [
    "**Generate two normally-distributed variables, one with a mean of 5 and standard deviation of 0.5, and the other with a mean of 10 and standard deviation of 1.\n",
    "Add them together to create a third variable.\n",
    "Graph the third variable using a histogram.\n",
    "Compute the mean and standard deviation and plot them as vertical lines on the histogram.\n",
    "Evaluate the descriptive statistics against the data.**"
   ]
  },
  {
   "cell_type": "code",
   "execution_count": 90,
   "metadata": {},
   "outputs": [
    {
     "name": "stdout",
     "output_type": "stream",
     "text": [
      "mean: 14.86272814829568\n",
      "std: 3.1718849107634663\n"
     ]
    },
    {
     "data": {
      "image/png": "[encoded data removed]",
      "text/plain": [
       "<matplotlib.figure.Figure at 0x12071c3c8>"
      ]
     },
     "metadata": {},
     "output_type": "display_data"
    }
   ],
   "source": [
    "norm1=np.random.normal(5,3,1000)\n",
    "norm2=np.random.normal(10,1,1000)\n",
    "norm3=norm1+norm2\n",
    "plt.hist(norm3,color='c')\n",
    "plt.axvline(norm3.mean(),color='gray',linestyle='solid',linewidth=2)\n",
    "plt.axvline(norm3.mean()-norm3.std(),color='gray',linestyle='dashed',linewidth=2)\n",
    "plt.axvline(norm3.mean()+norm3.std(),color='gray',linestyle='dashed',linewidth=2)\n",
    "print('mean:',norm3.mean())\n",
    "print('std:',norm3.std())"
   ]
  },
  {
   "cell_type": "markdown",
   "metadata": {},
   "source": [
    "When adding the two normal distributions, it turns out that new mean of the new normal distribution is about 15 which is almost same as sum of the means of two distributions, but the new standard deviation of the new normal distribution is about 1.1. The new standard deviation can be expressed as square root of (std1**2 + std2**2).  "
   ]
  }
 ],
 "metadata": {
  "kernelspec": {
   "display_name": "Python 3",
   "language": "python",
   "name": "python3"
  },
  "language_info": {
   "codemirror_mode": {
    "name": "ipython",
    "version": 3
   },
   "file_extension": ".py",
   "mimetype": "text/x-python",
   "name": "python",
   "nbconvert_exporter": "python",
   "pygments_lexer": "ipython3",
   "version": "3.6.4"
  }
 },
 "nbformat": 4,
 "nbformat_minor": 2
}
