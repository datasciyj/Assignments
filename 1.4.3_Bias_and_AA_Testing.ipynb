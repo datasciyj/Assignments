{
 "cells": [
  {
   "cell_type": "markdown",
   "metadata": {},
   "source": [
    "# DRILL: Am I Biased?\n",
    "For each of the following scenarios, call out the potential biases in the proposed experiment. Do your best to try to discover not only the bias, but the initial design. There is plenty of room for interpretation here, so make sure to state what assumptions you're making.\n",
    "\n",
    "\n",
    "\n"
   ]
  },
  {
   "cell_type": "markdown",
   "metadata": {},
   "source": [
    "- ### You're testing advertising emails for a bathing suit company and you test one version of the email in February and the other in May.<br><br>\n",
    "\n",
    "> Since people usually buy bathing suits in summer, this might influence the results like more email openings in May compared to February regardless of the difference between two conditions. In this case, the result doesn't reflect the effects of the test condition properly.\n"
   ]
  },
  {
   "cell_type": "markdown",
   "metadata": {},
   "source": [
    "- ### You open a clinic to treat anxiety and find that the people who visit show a higher rate of anxiety than the general population.<br><br>\n",
    "\n",
    "> This might be because people who suffer from high anxiety tend to visit anxiety clinics in order to solve their anxiety problem. It is also possible that terror events broke out in the area right before the clinic is opened, so people in that area temporarily got high anxiety and visited the clinic."
   ]
  },
  {
   "cell_type": "markdown",
   "metadata": {},
   "source": [
    "- ### You launch a new ad billboard based campaign and see an increase in website visits in the first week. <br><br>\n",
    "\n",
    "> There might have been a fluctuation in website visits, and the results might be due to spontaneous increase phase of fluctuation not by effect of ad billboard. "
   ]
  },
  {
   "cell_type": "markdown",
   "metadata": {},
   "source": [
    "- ### You launch a loyalty program but see no change in visits in the first week.<br><br>\n",
    "\n",
    "> The customer might not have been notified about the program yet, rather than no effect of the loyalty program. In this case, the ad for the program might be needed. "
   ]
  },
  {
   "cell_type": "code",
   "execution_count": null,
   "metadata": {},
   "outputs": [],
   "source": []
  }
 ],
 "metadata": {
  "kernelspec": {
   "display_name": "Python 3",
   "language": "python",
   "name": "python3"
  },
  "language_info": {
   "codemirror_mode": {
    "name": "ipython",
    "version": 3
   },
   "file_extension": ".py",
   "mimetype": "text/x-python",
   "name": "python",
   "nbconvert_exporter": "python",
   "pygments_lexer": "ipython3",
   "version": "3.6.4"
  }
 },
 "nbformat": 4,
 "nbformat_minor": 2
}
