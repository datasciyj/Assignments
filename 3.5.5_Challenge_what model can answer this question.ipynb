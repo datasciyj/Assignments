{
 "cells": [
  {
   "cell_type": "markdown",
   "metadata": {},
   "source": [
    "You now have a fairly substantial starting toolbox of supervised learning methods that you can use to tackle a host of exciting problems. To make sure all of these ideas are organized in your mind, please go through the list of problems below. For each, identify which supervised learning method(s) would be best for addressing that particular problem. Explain your reasoning and discuss your answers with your mentor.\n",
    "\n",
    "1. Predict the running times of prospective Olympic sprinters using data from the last 20 Olympics.\n",
    "\n",
    "- Linear regression doesn't necessarily need huge sample. \n",
    "- Simple model can be applied with this data. \n",
    "\n",
    "2. You have more features (columns) than rows in your dataset.\n",
    "\n",
    "- Lasso regression can be used to drop unnecessary features which have small parameter estimates\n",
    "\n",
    "3. Identify the most important characteristic predicting likelihood of being jailed before age 20.\n",
    "\n",
    "- We can use feature importance of SVM or Gradient boosting \n",
    "\n",
    "4. Implement a filter to “highlight” emails that might be important to the recipient\n",
    "\n",
    "- Naive bayes. It relies on probability \n",
    "\n",
    "5. You have 1000+ features.\n",
    "\n",
    "- Lasso could be applied.\n",
    "\n",
    "6. Predict whether someone who adds items to their cart on a website will purchase the items.\n",
    "\n",
    "- Random Forest, Gradient Boosting\n",
    "\n",
    "7. Your dataset dimensions are 982400 x 500\n",
    "\n",
    "- Which model is light and fast?\n",
    "- Lasso\n",
    "\n",
    "8. Identify faces in an image.\n",
    "\n",
    "- SVM\n",
    "\n",
    "9. Predict which of three flavors of ice cream will be most popular with boys vs girls.\n",
    "\n",
    "- Categorical outcome variable\n",
    "- Gradient "
   ]
  },
  {
   "cell_type": "code",
   "execution_count": null,
   "metadata": {},
   "outputs": [],
   "source": []
  }
 ],
 "metadata": {
  "kernelspec": {
   "display_name": "Python 3",
   "language": "python",
   "name": "python3"
  },
  "language_info": {
   "codemirror_mode": {
    "name": "ipython",
    "version": 3
   },
   "file_extension": ".py",
   "mimetype": "text/x-python",
   "name": "python",
   "nbconvert_exporter": "python",
   "pygments_lexer": "ipython3",
   "version": "3.6.4"
  }
 },
 "nbformat": 4,
 "nbformat_minor": 2
}
