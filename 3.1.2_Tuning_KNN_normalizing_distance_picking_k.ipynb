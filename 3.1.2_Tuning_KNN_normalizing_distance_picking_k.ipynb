{
 "cells": [
  {
   "cell_type": "markdown",
   "metadata": {},
   "source": [
    "**Let's say we work at a credit card company and we're trying to figure out if people are going to pay their bills on time. We have everyone's purchases, split into four main categories: groceries, dining out, utilities, and entertainment. What are some ways you might use KNN to create this model? What aspects of KNN would be useful? Write up your thoughts in submit a link below.**"
   ]
  },
  {
   "cell_type": "markdown",
   "metadata": {},
   "source": [
    "- All 4 features can be feed into the KNN model to predict if someone will pay bills on time after converting those features into ratio to total expenses. We can also recategorize 4 features into purchases for food and others. Since high proportion of income spent on foods indicates low income, this might also be highly correlated with ability to pay the bills on time. Therefore, we can reduce the number of features and simplfy the model by using this re-categorizing. \n",
    "- By the nature of credit rating, KNN is very useful to determine someone's credit by comparing someone's purchase patterns to those of others whose credit information is already in the training set. Moreover, since KNN doesn't make any assumptions on the data distribution, there is no need to worry about feature distribution when feeding those into the model. \n"
   ]
  }
 ],
 "metadata": {
  "kernelspec": {
   "display_name": "Python 3",
   "language": "python",
   "name": "python3"
  },
  "language_info": {
   "codemirror_mode": {
    "name": "ipython",
    "version": 3
   },
   "file_extension": ".py",
   "mimetype": "text/x-python",
   "name": "python",
   "nbconvert_exporter": "python",
   "pygments_lexer": "ipython3",
   "version": "3.6.4"
  }
 },
 "nbformat": 4,
 "nbformat_minor": 2
}
