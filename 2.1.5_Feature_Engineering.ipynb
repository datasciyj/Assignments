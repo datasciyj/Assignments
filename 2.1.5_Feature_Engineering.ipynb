{
 "cells": [
  {
   "cell_type": "markdown",
   "metadata": {},
   "source": [
    "TLADS Drill\n",
    "Categorize each of the variables in the ESS dataset as categorical or continuous, and if continuous as ordinal, interval, or ratio variables. Check your work with your mentor, and discuss what that information might imply for feature engineering with this data."
   ]
  },
  {
   "cell_type": "markdown",
   "metadata": {},
   "source": [
    "| Variable | categorize|\n",
    "|----------|------|\n",
    "|cntry(Country) | category | \n",
    "|year | interval| \n",
    "|idno(respondent's identification number) | category|\n",
    "|tvtot(TV watching, total time on average weekday) | ratio|\n",
    "|ppltrst(Most people can be trusted or you can't be too careful) | ordinal|\n",
    "|pplfair(Most people try to take advantage of you, or try to be fair) | ordinal|\n",
    "|pplhlp(Most of the time people helpful or mostly looking out for themselves) | ordinal |\n",
    "|happy(How happy are you) | ordinal<br>\n",
    "|sclmee(How often socially meet with friends, relatives or colleagues) | ratio|\n",
    "|sclact(Take part in social activities compared to others of same age) | interval |\n",
    "|gndr(gender)|category|\n",
    "|agea(Age)|ratio|\n",
    "|partner|category|\n"
   ]
  }
 ],
 "metadata": {
  "kernelspec": {
   "display_name": "Python 3",
   "language": "python",
   "name": "python3"
  },
  "language_info": {
   "codemirror_mode": {
    "name": "ipython",
    "version": 3
   },
   "file_extension": ".py",
   "mimetype": "text/x-python",
   "name": "python",
   "nbconvert_exporter": "python",
   "pygments_lexer": "ipython3",
   "version": "3.6.4"
  }
 },
 "nbformat": 4,
 "nbformat_minor": 2
}
