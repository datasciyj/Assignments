{
 "cells": [
  {
   "cell_type": "markdown",
   "metadata": {},
   "source": [
    "# A/B tests"
   ]
  },
  {
   "cell_type": "markdown",
   "metadata": {},
   "source": [
    "DRILL: Getting Testy...<br>\n",
    "For each of the following questions, outline how you could use an A/B test to find an answer. Be sure to identify all five key components of an A/B test we outlined above."
   ]
  },
  {
   "cell_type": "markdown",
   "metadata": {},
   "source": [
    "- Does a new supplement help people sleep better?\n",
    "\n",
    "> 1. Control version would be version that provides placebo pills to control placebo effect. We would provide a new supplement that need to be tested in test version. <br>\n",
    "> 2. People who have similar degree of sleep disturbance need to be randomly chosen for two groups <br>\n",
    "> 3. Hypothesis would be \"People who take a new supplement would sleep better than people who took placebo pills\" <br>\n",
    "> 4. We can measure sleep duration, how long REM sleep stage, and so on that could assess sleep quality. <br>\n",
    "> 5. Sex, age, degree of sleep disturbances and whether to take other sleep medicine also need to be examined to control variables which can affect the result. \n"
   ]
  },
  {
   "cell_type": "markdown",
   "metadata": {},
   "source": [
    "- Will new uniforms help a gym's business?\n",
    "\n",
    "> 1. Control would be no intervention, and test condition would be changing uniforms.<br>\n",
    "> 2. Gyms which has similar conditions could be randomly assigned for two conditions. <br>\n",
    "> 3. Hypothesis would be \"Gyms which changed uniforms will get higher profit than gyms which didn't change uniforms\" <br>\n",
    "> 4. The increased ratio of new registration, the ratio of withdrawal could be measured. <br>\n",
    "> 5. Any other changes which can affect the profit of gyms have to be assessed."
   ]
  },
  {
   "cell_type": "markdown",
   "metadata": {},
   "source": [
    "- Will a new homepage improve my online exotic pet rental business?\n",
    "> 1. We can make some visitors view new homepage, and others view previous homepage.<br>\n",
    "> 2. Visitors could be assigned by saperating odd number visitors and even number even number visitors.<br>\n",
    "> 3. Hypothesis would be \"People who visit new homepage will rent more exotic pets than people who visit old homepage\"<br>\n",
    "> 4. The number of rentals for each condition could be measured.<br>\n",
    "> 5. Previous rental record need to be examined."
   ]
  },
  {
   "cell_type": "markdown",
   "metadata": {},
   "source": [
    "- If I put 'please read' in the email subject will more people read my emails?\n",
    "> 1. In test condition, we will add 'please read' in the email subject. We don't add it in control condition.<br>\n",
    "> 2. We have to send emails to randomly assigned people.<br>\n",
    "> 3. Hypothesis would be \"I expect the add of 'please read' in the email subject will achieve a higher open than the email which don't have it in the subject.\"<br>\n",
    "> 4. The number of opening email has to be measured.<br>\n",
    "> 5. how closer people with person who send email could also affect the result if this variable between groups is different significantly."
   ]
  }
 ],
 "metadata": {
  "kernelspec": {
   "display_name": "Python 3",
   "language": "python",
   "name": "python3"
  },
  "language_info": {
   "codemirror_mode": {
    "name": "ipython",
    "version": 3
   },
   "file_extension": ".py",
   "mimetype": "text/x-python",
   "name": "python",
   "nbconvert_exporter": "python",
   "pygments_lexer": "ipython3",
   "version": "3.6.4"
  }
 },
 "nbformat": 4,
 "nbformat_minor": 2
}
