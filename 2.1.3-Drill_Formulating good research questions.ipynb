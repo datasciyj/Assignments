{
 "cells": [
  {
   "cell_type": "markdown",
   "metadata": {},
   "source": [
    "1. What is the 1994 rate of juvenile delinquency in the U.S.?\n",
    "> Bad. What made the 1994 rate of juvenile delinqunecy in the U.S higher than usual?\n",
    "\n",
    "2. What can we do to reduce juvenile delinquency in the U.S.?\n",
    "> Bad. Which factor does have the most effect on reducing juvenile delinquency in the US?\n",
    "\n",
    "3. Does education play a role in reducing juvenile delinquents' return to crime?\n",
    "> Good.\n",
    "\n",
    "4. How many customers does AT&T currently serve in Washington, DC?\n",
    "> Bad. Which is the most effective mean for AT&T to get new customers in Washington,DC? \n",
    "\n",
    "5. What factors lead consumers to choose AT&T over other service providers?\n",
    "> Good.\n",
    "\n",
    "6. How can AT&T attract more customers?\n",
    "> Bad. Is TV advertisement helpful to attract more customers for AT&T?\n",
    "\n",
    "7. Why did the Challenger Shuttle explode?\n",
    "> Bad. Which is the most probable reason for Challenger Shuttle explode?\n",
    "\n",
    "8. Which genes are associated with increased risk of breast cancer?\n",
    "> Good.\n",
    "\n",
    "9. Is it better to read to children at night or in the morning?\n",
    "> Good.\n",
    "\n",
    "10. How does Google’s search algorithm work?\n",
    "> Bad. Is Google's search algorithm the most accurate among existing search algorithms? "
   ]
  }
 ],
 "metadata": {
  "kernelspec": {
   "display_name": "Python 3",
   "language": "python",
   "name": "python3"
  },
  "language_info": {
   "codemirror_mode": {
    "name": "ipython",
    "version": 3
   },
   "file_extension": ".py",
   "mimetype": "text/x-python",
   "name": "python",
   "nbconvert_exporter": "python",
   "pygments_lexer": "ipython3",
   "version": "3.6.4"
  }
 },
 "nbformat": 4,
 "nbformat_minor": 2
}
