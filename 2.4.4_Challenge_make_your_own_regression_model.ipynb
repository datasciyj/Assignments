{
 "cells": [
  {
   "cell_type": "markdown",
   "metadata": {},
   "source": [
    "Prepare this data to model with multivariable regression (including data cleaning if necessary) according to this specification:<br>\n",
    "\n",
    "**Propertycrime=α+Population+Population2+Murder+Robbery**<br>\n",
    " \n",
    "The 'population' variable is already set for you, but you will need to create the last three features. Robbery and Murder are currently continuous variables. For this model, please use these variables to create categorical features where values greater than 0 are coded 1, and values equal to 0 are coded 0. You'll use this data and model in a later assignment- for now, just write the code you need to get the data ready. Don't forget basic data cleaning procedures, either! Do some graphing to see if there are any anomalous cases, and decide how you want to deal with them."
   ]
  },
  {
   "cell_type": "code",
   "execution_count": 28,
   "metadata": {},
   "outputs": [
    {
     "data": {
      "text/plain": [
       "Index(['City', 'Population', 'Violent\\ncrime',\n",
       "       'Murderand\\nnonnegligent\\nmanslaughter', 'Rape\\n(revised\\ndefinition)1',\n",
       "       'Rape\\n(legacy\\ndefinition)2', 'Robbery', 'Aggravated\\nassault',\n",
       "       'Property\\ncrime', 'Burglary', 'Larceny-\\ntheft',\n",
       "       'Motor\\nvehicle\\ntheft', 'Arson3'],\n",
       "      dtype='object')"
      ]
     },
     "execution_count": 28,
     "metadata": {},
     "output_type": "execute_result"
    }
   ],
   "source": [
    "%matplotlib inline\n",
    "import pandas as pd\n",
    "import numpy as np\n",
    "from matplotlib import pyplot as plt\n",
    "from sklearn import linear_model\n",
    "from sklearn.preprocessing import OneHotEncoder\n",
    "\n",
    "# Display preferences.\n",
    "%matplotlib inline\n",
    "pd.options.display.float_format = '{:.3f}'.format\n",
    "\n",
    "df=pd.read_excel('table_8_offenses_known_to_law_enforcement_new_york_by_city_2013.xls',skiprows=[0,1,2,3])\n",
    "df.columns = [c.replace(' ', '') for c in df.columns]\n",
    "df.columns"
   ]
  },
  {
   "cell_type": "code",
   "execution_count": 3,
   "metadata": {},
   "outputs": [
    {
     "name": "stdout",
     "output_type": "stream",
     "text": [
      "0.0      299\n",
      "1.0       31\n",
      "2.0        4\n",
      "7.0        2\n",
      "3.0        2\n",
      "8.0        2\n",
      "335.0      1\n",
      "6.0        1\n",
      "21.0       1\n",
      "4.0        1\n",
      "42.0       1\n",
      "5.0        1\n",
      "10.0       1\n",
      "47.0       1\n",
      "Name: Murderand\\nnonnegligent\\nmanslaughter, dtype: int64\n",
      "0.0        139\n",
      "1.0         56\n",
      "2.0         25\n",
      "3.0         23\n",
      "4.0         14\n",
      "5.0         10\n",
      "16.0         7\n",
      "6.0          6\n",
      "13.0         5\n",
      "11.0         5\n",
      "8.0          5\n",
      "12.0         4\n",
      "7.0          3\n",
      "10.0         3\n",
      "9.0          3\n",
      "31.0         2\n",
      "26.0         2\n",
      "19.0         2\n",
      "17.0         2\n",
      "76.0         1\n",
      "48.0         1\n",
      "29.0         1\n",
      "22.0         1\n",
      "227.0        1\n",
      "101.0        1\n",
      "60.0         1\n",
      "918.0        1\n",
      "1322.0       1\n",
      "51.0         1\n",
      "19170.0      1\n",
      "390.0        1\n",
      "28.0         1\n",
      "102.0        1\n",
      "145.0        1\n",
      "400.0        1\n",
      "34.0         1\n",
      "203.0        1\n",
      "23.0         1\n",
      "100.0        1\n",
      "21.0         1\n",
      "166.0        1\n",
      "81.0         1\n",
      "15.0         1\n",
      "150.0        1\n",
      "228.0        1\n",
      "47.0         1\n",
      "24.0         1\n",
      "25.0         1\n",
      "20.0         1\n",
      "39.0         1\n",
      "204.0        1\n",
      "Name: Robbery, dtype: int64\n"
     ]
    }
   ],
   "source": [
    "murder=df['Murderand\\nnonnegligent\\nmanslaughter']\n",
    "robbery=df['Robbery']\n",
    "print(murder.value_counts())\n",
    "print(robbery.value_counts())"
   ]
  },
  {
   "cell_type": "code",
   "execution_count": 4,
   "metadata": {},
   "outputs": [
    {
     "name": "stderr",
     "output_type": "stream",
     "text": [
      "/anaconda3/lib/python3.6/site-packages/numpy/lib/histograms.py:754: RuntimeWarning: invalid value encountered in greater_equal\n",
      "  keep = (tmp_a >= first_edge)\n",
      "/anaconda3/lib/python3.6/site-packages/numpy/lib/histograms.py:755: RuntimeWarning: invalid value encountered in less_equal\n",
      "  keep &= (tmp_a <= last_edge)\n"
     ]
    },
    {
     "data": {
      "text/plain": [
       "(array([345.,   2.,   0.,   0.,   0.,   0.,   0.,   0.,   0.,   1.]),\n",
       " array([  0. ,  33.5,  67. , 100.5, 134. , 167.5, 201. , 234.5, 268. ,\n",
       "        301.5, 335. ]),\n",
       " <a list of 10 Patch objects>)"
      ]
     },
     "execution_count": 4,
     "metadata": {},
     "output_type": "execute_result"
    },
    {
     "data": {
      "image/png": "[encoded data removed]",
      "text/plain": [
       "<Figure size 432x288 with 1 Axes>"
      ]
     },
     "metadata": {},
     "output_type": "display_data"
    }
   ],
   "source": [
    "plt.hist(murder)"
   ]
  },
  {
   "cell_type": "code",
   "execution_count": 5,
   "metadata": {},
   "outputs": [
    {
     "name": "stderr",
     "output_type": "stream",
     "text": [
      "/anaconda3/lib/python3.6/site-packages/numpy/lib/histograms.py:754: RuntimeWarning: invalid value encountered in greater_equal\n",
      "  keep = (tmp_a >= first_edge)\n",
      "/anaconda3/lib/python3.6/site-packages/numpy/lib/histograms.py:755: RuntimeWarning: invalid value encountered in less_equal\n",
      "  keep &= (tmp_a <= last_edge)\n"
     ]
    },
    {
     "data": {
      "text/plain": [
       "(array([347.,   0.,   0.,   0.,   0.,   0.,   0.,   0.,   0.,   1.]),\n",
       " array([    0.,  1917.,  3834.,  5751.,  7668.,  9585., 11502., 13419.,\n",
       "        15336., 17253., 19170.]),\n",
       " <a list of 10 Patch objects>)"
      ]
     },
     "execution_count": 5,
     "metadata": {},
     "output_type": "execute_result"
    },
    {
     "data": {
      "image/png": "[encoded data removed]",
      "text/plain": [
       "<Figure size 432x288 with 1 Axes>"
      ]
     },
     "metadata": {},
     "output_type": "display_data"
    }
   ],
   "source": [
    "plt.hist(robbery)"
   ]
  },
  {
   "cell_type": "code",
   "execution_count": 19,
   "metadata": {},
   "outputs": [],
   "source": [
    "features=pd.DataFrame()\n",
    "features['murder']=np.where(murder==0,0,1)\n",
    "features['robbery']=np.where(robbery==0,0,1)"
   ]
  },
  {
   "cell_type": "code",
   "execution_count": 8,
   "metadata": {},
   "outputs": [],
   "source": [
    "# murder_dummy=pd.get_dummies(features['murder'],drop_first=True)\n",
    "# robbery_dummy=pd.get_dummies(robbery_cat,drop_first=True)"
   ]
  },
  {
   "cell_type": "code",
   "execution_count": 24,
   "metadata": {},
   "outputs": [],
   "source": [
    "features['population']=df['Population']\n",
    "features['propertycrime']=df['Property\\ncrime']"
   ]
  },
  {
   "cell_type": "code",
   "execution_count": 25,
   "metadata": {},
   "outputs": [],
   "source": [
    "features['population_sq']=df['Population']*df['Population']"
   ]
  },
  {
   "cell_type": "code",
   "execution_count": 26,
   "metadata": {},
   "outputs": [
    {
     "data": {
      "text/plain": [
       "LinearRegression(copy_X=True, fit_intercept=True, n_jobs=1, normalize=False)"
      ]
     },
     "execution_count": 26,
     "metadata": {},
     "output_type": "execute_result"
    }
   ],
   "source": [
    "from patsy import dmatrices\n",
    "\n",
    "y, X = dmatrices('propertycrime ~ (murder)+(robbery)+(population)+(population_sq)', features, return_type=\"dataframe\")\n",
    "\n",
    "# Instantiate and fit our model.\n",
    "regr = linear_model.LinearRegression()\n",
    "regr.fit(X,y)"
   ]
  },
  {
   "cell_type": "code",
   "execution_count": 29,
   "metadata": {},
   "outputs": [
    {
     "data": {
      "text/plain": [
       "0.9961247104986592"
      ]
     },
     "execution_count": 29,
     "metadata": {},
     "output_type": "execute_result"
    }
   ],
   "source": [
    "regr.score(X,y)"
   ]
  },
  {
   "cell_type": "markdown",
   "metadata": {},
   "source": [
    "The score for the explanation of variance is 99%, which means this model explains 99% of propertycrime."
   ]
  }
 ],
 "metadata": {
  "kernelspec": {
   "display_name": "Python 3",
   "language": "python",
   "name": "python3"
  },
  "language_info": {
   "codemirror_mode": {
    "name": "ipython",
    "version": 3
   },
   "file_extension": ".py",
   "mimetype": "text/x-python",
   "name": "python",
   "nbconvert_exporter": "python",
   "pygments_lexer": "ipython3",
   "version": "3.6.4"
  }
 },
 "nbformat": 4,
 "nbformat_minor": 2
}
