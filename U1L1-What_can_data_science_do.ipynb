{
 "cells": [
  {
   "cell_type": "markdown",
   "metadata": {},
   "source": [
    "# U1L1- Drill: What can data science do?\n",
    "\n",
    "**1. You work at an e-commerce company that sells three goods: widgets, doodads, and fizzbangs. The head of advertising asks you which they should feature in their new advertising campaign. You have data on individual visitors' sessions (activity on a website, pageviews, and purchases), as well as whether or not those users converted from an advertisement for that session. You also have the cost and price information for the goods. **\n",
    "\n",
    "- The question would be \"Which sales of the goods would increase the most when included in advertising campaign?\". For answering this question, we need to analyze how many purchases were made by the users who visited through an advertisement. In addition, we also need to consider how other users' activities such as pageviews and wish lists are related with an advertisement, since those also can lead to future purchase. Finally, after calculationg clear profit using the cost and price information, we could compare how the profit among three goods can be elevated by advertisements.\n",
    "\n",
    "**2. You work at a web design company that offers to build websites for clients. Signups have slowed, and you are tasked with finding out why. The onboarding funnel has three steps: email and password signup, plan choice, and payment. On a user level you have information on what steps they have completed as well as timestamps for all of those events for the past 3 years. You also have information on marketing spend on a weekly level.**\n",
    "\n",
    "- My question would be \"Which step for buying our service is the most problematic reason for slowed signups?\". First, I would analyze where the customers leave the most during the three process. I also would analyze which process was taken so long for the session which couln't lead to purchase using timestamp information. In addition, how the marketing spending influenced the purchase on a weekly level also needs to be investigated.\n",
    "\n",
    "**3. You work at a hotel website and currently the website ranks search results by price. For simplicity's sake, let's say it's a website for one city with 100 hotels. You are tasked with proposing a better ranking system. You have session information, price information for the hotels, and whether each hotel is currently available.**\n",
    "\n",
    "- I would examine if the customers actually choose the highly ranked hotels on the website using session information and raking list by price. For the purchases which don't follow the current rangking system, I would analyze the common factor among the booked hotels which is not highly ranked in the current website in order to find possible other factors which affect customer' choice. I also would investigate availability information can explain those unexpected purchases.   \n",
    "\n",
    "**4. You work at a social network, and the management is worried about churn (users stopping using the product). You are tasked with finding out if their churn is atypical. You have three years of data for users with an entry for every time they've logged in, including the timestamp and length of session.**\n",
    "\n",
    "- I would ask if the using pattern of churners on social network service would be different from the non-churners. Comparing all the session data provided between the two groups would help to understand the churners' characteristic pattern.  "
   ]
  },
  {
   "cell_type": "code",
   "execution_count": null,
   "metadata": {},
   "outputs": [],
   "source": []
  }
 ],
 "metadata": {
  "kernelspec": {
   "display_name": "Python 3",
   "language": "python",
   "name": "python3"
  },
  "language_info": {
   "codemirror_mode": {
    "name": "ipython",
    "version": 3
   },
   "file_extension": ".py",
   "mimetype": "text/x-python",
   "name": "python",
   "nbconvert_exporter": "python",
   "pygments_lexer": "ipython3",
   "version": "3.6.4"
  }
 },
 "nbformat": 4,
 "nbformat_minor": 2
}
